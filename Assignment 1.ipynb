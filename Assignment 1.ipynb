{
 "cells": [
  {
   "cell_type": "markdown",
   "metadata": {},
   "source": [
    "### Visualization assignment 1"
   ]
  },
  {
   "cell_type": "markdown",
   "metadata": {},
   "source": [
    "#### Question 1"
   ]
  },
  {
   "cell_type": "code",
   "execution_count": 2,
   "metadata": {},
   "outputs": [],
   "source": [
    "from datetime import datetime\n",
    "from bokeh.plotting import figure, output_file, show\n",
    "from bokeh.models import NumeralTickFormatter\n",
    "\n",
    "# prepare some data\n",
    "x = [\n",
    "datetime(10,8,13),\n",
    "datetime(10,8,20),\n",
    "datetime(10,8,27),\n",
    "datetime(10,9,3),\n",
    "datetime(10,9,10),\n",
    "datetime(10,9,17),\n",
    "datetime(10,9,24),\n",
    "datetime(10,10,1),\n",
    "datetime(10,10,8),\n",
    "datetime(10,10,15)\n",
    "]\n",
    "\n",
    "y = [48389085, 24123161, 13055524, 9674843, 4404622, 1858731, 779092, 325543, 180594, 277329]\n",
    "\n",
    "rank = [1,1,3,6,6,13,15,22,32,31]\n",
    "\n",
    "# output to static HTML file\n",
    "output_file(\"filmgross.html\")\n",
    "\n",
    "# create a new plot with a title and axis labels\n",
    "p = figure( title=\"The Expendables - Gross earning line example.\", plot_width=800, x_axis_label='x', y_axis_label='y', \n",
    "            x_axis_type=\"datetime\")\n",
    "\n",
    "# add a line renderer with legend and line thickness\n",
    "p.line( x, y, legend=\"Weekly Gross\", line_width=2 )\n",
    "\n",
    "# use a formatter to display y-axis tick labels in million dollars\n",
    "p.yaxis[0].formatter = NumeralTickFormatter(format=\"($ 0.00 a)\")\n",
    "\n",
    "# show the results\n",
    "show(p)"
   ]
  }
 ],
 "metadata": {
  "kernelspec": {
   "display_name": "Python 3",
   "language": "python",
   "name": "python3"
  },
  "language_info": {
   "codemirror_mode": {
    "name": "ipython",
    "version": 3
   },
   "file_extension": ".py",
   "mimetype": "text/x-python",
   "name": "python",
   "nbconvert_exporter": "python",
   "pygments_lexer": "ipython3",
   "version": "3.5.0"
  },
  "toc": {
   "colors": {
    "hover_highlight": "#DAA520",
    "navigate_num": "#000000",
    "navigate_text": "#333333",
    "running_highlight": "#FF0000",
    "selected_highlight": "#FFD700",
    "sidebar_border": "#EEEEEE",
    "wrapper_background": "#FFFFFF"
   },
   "moveMenuLeft": true,
   "nav_menu": {
    "height": "48px",
    "width": "252px"
   },
   "navigate_menu": true,
   "number_sections": true,
   "sideBar": true,
   "threshold": 4,
   "toc_cell": false,
   "toc_section_display": "block",
   "toc_window_display": false,
   "widenNotebook": false
  }
 },
 "nbformat": 4,
 "nbformat_minor": 2
}
