{
 "cells": [
  {
   "cell_type": "markdown",
   "metadata": {},
   "source": [
    "# Data Visualization (2017/18)\n",
    "\n",
    "## Solutions for Assignment 4 - Visualizing tabular data with many features\n",
    "\n",
    "Presented by Group ??: \n",
    "- Name1\n",
    "- Name2\n",
    "\n",
    "Date: xx.xx.2017\n",
    "\n",
    "**Due date**: Friday, 22. Dec. 2017, 22:00\n",
    "\n",
    "Please hand in a copy of the solved notebook and a html-export of it.\n",
    "\n",
    "Remark: To keep the file size low, the notebook contains png images of solutions you should obtain. Double-click in the images to see the markdown code - do not execute these cells as you do not have the images."
   ]
  },
  {
   "cell_type": "code",
   "execution_count": 1,
   "metadata": {},
   "outputs": [
    {
     "data": {
      "text/html": [
       "\n",
       "    <div class=\"bk-root\">\n",
       "        <a href=\"https://bokeh.pydata.org\" target=\"_blank\" class=\"bk-logo bk-logo-small bk-logo-notebook\"></a>\n",
       "        <span id=\"2a8392e6-b2c0-4b08-9dcf-97d649c18162\">Loading BokehJS ...</span>\n",
       "    </div>"
      ]
     },
     "metadata": {},
     "output_type": "display_data"
    },
    {
     "data": {
      "application/javascript": [
       "\n",
       "(function(root) {\n",
       "  function now() {\n",
       "    return new Date();\n",
       "  }\n",
       "\n",
       "  var force = true;\n",
       "\n",
       "  if (typeof (root._bokeh_onload_callbacks) === \"undefined\" || force === true) {\n",
       "    root._bokeh_onload_callbacks = [];\n",
       "    root._bokeh_is_loading = undefined;\n",
       "  }\n",
       "\n",
       "\n",
       "  \n",
       "  if (typeof (root._bokeh_timeout) === \"undefined\" || force === true) {\n",
       "    root._bokeh_timeout = Date.now() + 5000;\n",
       "    root._bokeh_failed_load = false;\n",
       "  }\n",
       "\n",
       "  var NB_LOAD_WARNING = {'data': {'text/html':\n",
       "     \"<div style='background-color: #fdd'>\\n\"+\n",
       "     \"<p>\\n\"+\n",
       "     \"BokehJS does not appear to have successfully loaded. If loading BokehJS from CDN, this \\n\"+\n",
       "     \"may be due to a slow or bad network connection. Possible fixes:\\n\"+\n",
       "     \"</p>\\n\"+\n",
       "     \"<ul>\\n\"+\n",
       "     \"<li>re-rerun `output_notebook()` to attempt to load from CDN again, or</li>\\n\"+\n",
       "     \"<li>use INLINE resources instead, as so:</li>\\n\"+\n",
       "     \"</ul>\\n\"+\n",
       "     \"<code>\\n\"+\n",
       "     \"from bokeh.resources import INLINE\\n\"+\n",
       "     \"output_notebook(resources=INLINE)\\n\"+\n",
       "     \"</code>\\n\"+\n",
       "     \"</div>\"}};\n",
       "\n",
       "  function display_loaded() {\n",
       "    if (root.Bokeh !== undefined) {\n",
       "      var el = document.getElementById(\"2a8392e6-b2c0-4b08-9dcf-97d649c18162\");\n",
       "      if (el != null) {\n",
       "        el.textContent = \"BokehJS \" + Bokeh.version + \" successfully loaded.\";\n",
       "      }\n",
       "    } else if (Date.now() < root._bokeh_timeout) {\n",
       "      setTimeout(display_loaded, 100)\n",
       "    }\n",
       "  }\n",
       "\n",
       "\n",
       "  function run_callbacks() {\n",
       "    try {\n",
       "      root._bokeh_onload_callbacks.forEach(function(callback) { callback() });\n",
       "    }\n",
       "    finally {\n",
       "      delete root._bokeh_onload_callbacks\n",
       "    }\n",
       "    console.info(\"Bokeh: all callbacks have finished\");\n",
       "  }\n",
       "\n",
       "  function load_libs(js_urls, callback) {\n",
       "    root._bokeh_onload_callbacks.push(callback);\n",
       "    if (root._bokeh_is_loading > 0) {\n",
       "      console.log(\"Bokeh: BokehJS is being loaded, scheduling callback at\", now());\n",
       "      return null;\n",
       "    }\n",
       "    if (js_urls == null || js_urls.length === 0) {\n",
       "      run_callbacks();\n",
       "      return null;\n",
       "    }\n",
       "    console.log(\"Bokeh: BokehJS not loaded, scheduling load and callback at\", now());\n",
       "    root._bokeh_is_loading = js_urls.length;\n",
       "    for (var i = 0; i < js_urls.length; i++) {\n",
       "      var url = js_urls[i];\n",
       "      var s = document.createElement('script');\n",
       "      s.src = url;\n",
       "      s.async = false;\n",
       "      s.onreadystatechange = s.onload = function() {\n",
       "        root._bokeh_is_loading--;\n",
       "        if (root._bokeh_is_loading === 0) {\n",
       "          console.log(\"Bokeh: all BokehJS libraries loaded\");\n",
       "          run_callbacks()\n",
       "        }\n",
       "      };\n",
       "      s.onerror = function() {\n",
       "        console.warn(\"failed to load library \" + url);\n",
       "      };\n",
       "      console.log(\"Bokeh: injecting script tag for BokehJS library: \", url);\n",
       "      document.getElementsByTagName(\"head\")[0].appendChild(s);\n",
       "    }\n",
       "  };var element = document.getElementById(\"2a8392e6-b2c0-4b08-9dcf-97d649c18162\");\n",
       "  if (element == null) {\n",
       "    console.log(\"Bokeh: ERROR: autoload.js configured with elementid '2a8392e6-b2c0-4b08-9dcf-97d649c18162' but no matching script tag was found. \")\n",
       "    return false;\n",
       "  }\n",
       "\n",
       "  var js_urls = [\"https://cdn.pydata.org/bokeh/release/bokeh-0.12.7.min.js\", \"https://cdn.pydata.org/bokeh/release/bokeh-widgets-0.12.7.min.js\", \"https://cdn.pydata.org/bokeh/release/bokeh-tables-0.12.7.min.js\", \"https://cdn.pydata.org/bokeh/release/bokeh-gl-0.12.7.min.js\"];\n",
       "\n",
       "  var inline_js = [\n",
       "    function(Bokeh) {\n",
       "      Bokeh.set_log_level(\"info\");\n",
       "    },\n",
       "    \n",
       "    function(Bokeh) {\n",
       "      \n",
       "    },\n",
       "    \n",
       "    function(Bokeh) {\n",
       "      \n",
       "      document.getElementById(\"2a8392e6-b2c0-4b08-9dcf-97d649c18162\").textContent = \"BokehJS is loading...\";\n",
       "    },\n",
       "    function(Bokeh) {\n",
       "      console.log(\"Bokeh: injecting CSS: https://cdn.pydata.org/bokeh/release/bokeh-0.12.7.min.css\");\n",
       "      Bokeh.embed.inject_css(\"https://cdn.pydata.org/bokeh/release/bokeh-0.12.7.min.css\");\n",
       "      console.log(\"Bokeh: injecting CSS: https://cdn.pydata.org/bokeh/release/bokeh-widgets-0.12.7.min.css\");\n",
       "      Bokeh.embed.inject_css(\"https://cdn.pydata.org/bokeh/release/bokeh-widgets-0.12.7.min.css\");\n",
       "      console.log(\"Bokeh: injecting CSS: https://cdn.pydata.org/bokeh/release/bokeh-tables-0.12.7.min.css\");\n",
       "      Bokeh.embed.inject_css(\"https://cdn.pydata.org/bokeh/release/bokeh-tables-0.12.7.min.css\");\n",
       "    }\n",
       "  ];\n",
       "\n",
       "  function run_inline_js() {\n",
       "    \n",
       "    if ((root.Bokeh !== undefined) || (force === true)) {\n",
       "      for (var i = 0; i < inline_js.length; i++) {\n",
       "        inline_js[i].call(root, root.Bokeh);\n",
       "      }if (force === true) {\n",
       "        display_loaded();\n",
       "      }} else if (Date.now() < root._bokeh_timeout) {\n",
       "      setTimeout(run_inline_js, 100);\n",
       "    } else if (!root._bokeh_failed_load) {\n",
       "      console.log(\"Bokeh: BokehJS failed to load within specified timeout.\");\n",
       "      root._bokeh_failed_load = true;\n",
       "    } else if (force !== true) {\n",
       "      var cell = $(document.getElementById(\"2a8392e6-b2c0-4b08-9dcf-97d649c18162\")).parents('.cell').data().cell;\n",
       "      cell.output_area.append_execute_result(NB_LOAD_WARNING)\n",
       "    }\n",
       "\n",
       "  }\n",
       "\n",
       "  if (root._bokeh_is_loading === 0) {\n",
       "    console.log(\"Bokeh: BokehJS loaded, going straight to plotting\");\n",
       "    run_inline_js();\n",
       "  } else {\n",
       "    load_libs(js_urls, function() {\n",
       "      console.log(\"Bokeh: BokehJS plotting callback run at\", now());\n",
       "      run_inline_js();\n",
       "    });\n",
       "  }\n",
       "}(window));"
      ]
     },
     "metadata": {},
     "output_type": "display_data"
    }
   ],
   "source": [
    "import pandas as pd\n",
    "import numpy as np\n",
    "\n",
    "from sklearn.decomposition import PCA\n",
    "from sklearn.preprocessing import StandardScaler\n",
    "\n",
    "from bokeh.models import ColumnDataSource, ColorBar, LinearColorMapper, CategoricalColorMapper\n",
    "from bokeh.models import Arrow, NormalHead, LabelSet, Label\n",
    "from bokeh.plotting import figure, output_notebook, show\n",
    "from bokeh.palettes import Category10, Category20, Viridis\n",
    "from bokeh.transform import factor_cmap, linear_cmap\n",
    "from bokeh.io import export_png\n",
    "from bokeh.layouts import gridplot, row\n",
    "from bokeh.core.properties import value\n",
    "\n",
    "output_notebook()"
   ]
  },
  {
   "cell_type": "markdown",
   "metadata": {},
   "source": [
    "# Exercise 1: Characterizing car types"
   ]
  },
  {
   "cell_type": "code",
   "execution_count": null,
   "metadata": {
    "collapsed": true
   },
   "outputs": [],
   "source": [
    "# load the data\n",
    "cars = pd.read_csv( '93cars.dat.csv', sep='\\s+', na_values='*')\n",
    "\n",
    "# substitute missing values\n",
    "cars.LuggageCapacity = cars.LuggageCapacity.fillna(cars.LuggageCapacity.median())\n",
    "cars.Cylinders = cars.Cylinders.fillna(cars.Cylinders.median())\n",
    "cars.RearSeatRoom = cars.RearSeatRoom.fillna(cars.RearSeatRoom.median())"
   ]
  },
  {
   "cell_type": "code",
   "execution_count": null,
   "metadata": {
    "collapsed": true
   },
   "outputs": [],
   "source": [
    "cars.columns"
   ]
  },
  {
   "cell_type": "markdown",
   "metadata": {},
   "source": [
    "<font color='deeppink'>**Task 1a)**</font> Understand your data.\n",
    "- Which of the variables are quantitative and can be used in a PCA? Store their names in the following variable `var`."
   ]
  },
  {
   "cell_type": "code",
   "execution_count": null,
   "metadata": {
    "collapsed": true
   },
   "outputs": [],
   "source": [
    "var = []"
   ]
  },
  {
   "cell_type": "markdown",
   "metadata": {},
   "source": [
    "- Which variables can be used to divide the cars into groups? How many groups do you obtain and what size do they have? Do you expect differences between the groups and if yes which?\n",
    "\n",
    " - Variable:\n",
    " - Number of groups + size of each group:\n",
    " - Hypothesis:"
   ]
  },
  {
   "cell_type": "markdown",
   "metadata": {},
   "source": [
    "<font color='deeppink'>**Task 1b)**</font> Compute the PCA.\n",
    "\n",
    "scikit-learn PCA: http://scikit-learn.org/stable/modules/generated/sklearn.decomposition.PCA.html"
   ]
  },
  {
   "cell_type": "code",
   "execution_count": null,
   "metadata": {
    "collapsed": true
   },
   "outputs": [],
   "source": [
    "# store standardized data in cars_std\n",
    "cars_std = \n",
    "\n",
    "# store PCA in variable pca\n",
    "pca = "
   ]
  },
  {
   "cell_type": "markdown",
   "metadata": {},
   "source": [
    "Important variables for further analysis (see docu above):"
   ]
  },
  {
   "cell_type": "code",
   "execution_count": null,
   "metadata": {
    "collapsed": true
   },
   "outputs": [],
   "source": [
    "pca.components_\n",
    "pca.explained_variance_\n",
    "pca.explained_variance_ratio_"
   ]
  },
  {
   "cell_type": "markdown",
   "metadata": {},
   "source": [
    "<font color='deeppink'>**Task 1c)**</font> How many principal components to use."
   ]
  },
  {
   "cell_type": "code",
   "execution_count": null,
   "metadata": {
    "collapsed": true
   },
   "outputs": [],
   "source": [
    "var_exp = pca.explained_variance_ratio_*100\n",
    "cum_var_exp = np.cumsum(var_exp)\n",
    "x = ['PC%s' %(i+1) for i in range(len(var))]\n",
    "\n",
    "source = ColumnDataSource( dict(x=x, var_exp=var_exp, cum_var_exp=cum_var_exp) )\n",
    "\n",
    "p = figure( plot_width=520, plot_height=400, toolbar_location=None, x_range=x, y_range=(-2,105) )\n",
    "\n",
    "p.vbar( source=source, x='x', top='var_exp', width=0.9, bottom=0, legend='Explained variance' )\n",
    "\n",
    "p.circle( x, cum_var_exp, color='orange', size=5, legend=\"Cumulative explained variance\")\n",
    "p.line( x, cum_var_exp, color='orange', line_width=2 )\n",
    "\n",
    "p.legend.location = (235,155)\n",
    "p.legend.border_line_color = None\n",
    "p.xgrid.visible = False\n",
    "p.yaxis.axis_label = \"Explained variance in percent\"\n",
    "\n",
    "show(p)"
   ]
  },
  {
   "cell_type": "markdown",
   "metadata": {},
   "source": [
    "Here is a sample image to check your routine:\n",
    "![](img2.png)"
   ]
  },
  {
   "cell_type": "markdown",
   "metadata": {},
   "source": [
    "- How much variance explains the first and the first two principal component(s) roughly?\n",
    "\n",
    "- How many components do you need to explain 90% of variance in the data (roughly, use figure estimate)?"
   ]
  },
  {
   "cell_type": "markdown",
   "metadata": {},
   "source": [
    "<font color='deeppink'>**Task 1d)**</font> Interpret the axis.\n",
    "\n",
    "The following chart presents a projection of the cars data onto the first two principal components. Use techniques you learned in class to derive the meaning of the axes."
   ]
  },
  {
   "cell_type": "code",
   "execution_count": null,
   "metadata": {
    "collapsed": true
   },
   "outputs": [],
   "source": [
    "pca_auto = pd.DataFrame( pca.transform(cars_std), columns=['PC%i' % (i+1) for i in range(pca.n_components_)])\n",
    "\n",
    "pca_auto['label'] = cars.Type\n",
    "pca_auto['label'] = pca_auto['label'].astype('str')\n",
    "\n",
    "factors = sorted(pca_auto.label.unique())"
   ]
  },
  {
   "cell_type": "code",
   "execution_count": null,
   "metadata": {
    "collapsed": true
   },
   "outputs": [],
   "source": [
    "source = ColumnDataSource(pca_auto)\n",
    "\n",
    "p = figure( plot_width=600, plot_height=600, y_range=(-4.5,4.8) )\n",
    "\n",
    "p.circle( source=source, x='PC1', y='PC2', size=9, legend='label',\n",
    "          color=factor_cmap('label', palette=Category10[10], factors=factors))\n",
    "p.xaxis.axis_label = 'PC1' \n",
    "p.yaxis.axis_label = 'PC2' \n",
    "\n",
    "show(p)"
   ]
  },
  {
   "cell_type": "markdown",
   "metadata": {},
   "source": [
    "You should get the following chart:\n",
    "![](img1.png)"
   ]
  },
  {
   "cell_type": "markdown",
   "metadata": {},
   "source": [
    "- Explain the PC1 and PC2 axis. What is typical for cars on the left vs. right (x-axis)? What is typical for cars located towards the top vs. bottom of the chart (y-axis)?"
   ]
  },
  {
   "cell_type": "markdown",
   "metadata": {},
   "source": [
    "- Use one of the groupings you discussed in Task 1a) and color the plot accordingly. What can you tell about the groups? Feal free to comment on additional findings here."
   ]
  },
  {
   "cell_type": "markdown",
   "metadata": {},
   "source": [
    "# **Exercise 2**: Analyzing tumor data"
   ]
  },
  {
   "cell_type": "markdown",
   "metadata": {},
   "source": [
    "The following code reads the tumor data and does some preprocessing. You have access to the following variables:\n",
    "\n",
    "- **df** contains the tabular data with genes and labels. Labels are stored in the last column\n",
    "- **labels** the last column as a seperate array\n",
    "- **df_std** a standardized version of the data\n",
    "- **ngenes** the number of genes\n",
    "- **cancer_types** list of cancers contained in the data"
   ]
  },
  {
   "cell_type": "code",
   "execution_count": null,
   "metadata": {
    "collapsed": true,
    "scrolled": true
   },
   "outputs": [],
   "source": [
    "# read the gene expression data, transpose it, and name the columns\n",
    "df = pd.read_csv('nci.csv', header=None, sep='\\s+')\n",
    "df = df.T\n",
    "df.columns = ['G%i' % i for i in range(len(df.columns))]\n",
    "\n",
    "ngenes = len(df.columns)\n",
    "\n",
    "# read the labels and add them to the dataframe\n",
    "labels = pd.read_csv( 'nci-labels.csv' )\n",
    "df['cancer'] = labels\n",
    "\n",
    "# remove synthetic tumors\n",
    "df = df[df['cancer'].isin(['CNS', 'RENAL', 'BREAST', 'NSCLC', 'UNKNOWN', 'OVARIAN', 'MELANOMA',\n",
    "       'PROSTATE', 'LEUKEMIA', 'COLON' ])]\n",
    "df = df.reset_index()\n",
    "labels = df.cancer\n",
    "\n",
    "# get a standardized version of the data\n",
    "df_std = StandardScaler().fit_transform(df.iloc[:,1:-1])\n",
    "\n",
    "# get the occuring cancer types\n",
    "cancer_types = sorted(labels.unique())"
   ]
  },
  {
   "cell_type": "markdown",
   "metadata": {},
   "source": [
    "** Helper routines **"
   ]
  },
  {
   "cell_type": "code",
   "execution_count": null,
   "metadata": {
    "collapsed": true
   },
   "outputs": [],
   "source": [
    "def getLegend( df ):\n",
    "    df = df.sort_values(by=['cancer'])\n",
    "    source = ColumnDataSource(df)\n",
    "\n",
    "    l = figure( plot_width=200, plot_height=300, y_range=(100,101) )\n",
    "    l.circle( source=source, x='G0', y='G1', size=7, legend='cancer', \n",
    "              color=factor_cmap('cancer', palette=Category10[10], factors=cancer_types))\n",
    "    l.xaxis.visible = False\n",
    "    l.yaxis.visible = False\n",
    "    l.xgrid.visible = False\n",
    "    l.ygrid.visible = False\n",
    "    l.legend.location = \"top_left\"\n",
    "    l.legend.border_line_color = None\n",
    "    \n",
    "    return l"
   ]
  },
  {
   "cell_type": "code",
   "execution_count": null,
   "metadata": {
    "collapsed": true
   },
   "outputs": [],
   "source": [
    "df.cancer.value_counts()"
   ]
  },
  {
   "cell_type": "markdown",
   "metadata": {},
   "source": [
    "<font color='deeppink'>**Task 2a)**</font> Make a feasibility check.\n",
    "\n",
    "- Show 6 scatterplots of your data using random genes for the axes. "
   ]
  },
  {
   "cell_type": "code",
   "execution_count": null,
   "metadata": {
    "collapsed": true
   },
   "outputs": [],
   "source": [
    "row = [] \n",
    "\n",
    "p = figure( plot_width=300, plot_height=300 )\n",
    "ids = np.random.choice( len(df.columns)-1, 2 )\n",
    "var1 = 'G'+str(ids[0])\n",
    "var2 = 'G'+str(ids[1])\n",
    "p.circle( source=df, x=var1, y=var2, size=7,\n",
    "          color=factor_cmap('cancer', palette=Category10[10], factors=cancer_type))\n",
    "p.xaxis.axis_label = var1\n",
    "p.yaxis.axis_label = var2\n",
    "row.append(p)\n",
    "\n",
    "row.append(getLegend(df))\n",
    "    \n",
    "show( gridplot([row]))\n"
   ]
  },
  {
   "cell_type": "markdown",
   "metadata": {},
   "source": [
    "Should give:\n",
    "![](img3.png)"
   ]
  },
  {
   "cell_type": "markdown",
   "metadata": {},
   "source": [
    "- Looking at the charts you created above, can you find clusters for the different cancer types?"
   ]
  },
  {
   "cell_type": "markdown",
   "metadata": {},
   "source": [
    "- Explain the following chart (also understand the code to compute it).\n",
    "\n",
    " Hint: The method `np.linalg.norm( x-y)` computes the Euklidean distance between two vectors `x` and `y`."
   ]
  },
  {
   "cell_type": "code",
   "execution_count": null,
   "metadata": {
    "collapsed": true
   },
   "outputs": [],
   "source": [
    "cnt = pd.DataFrame( index=cancer_types, columns=['same', 'other']).fillna(0)\n",
    "\n",
    "for i in df_std:\n",
    "    dfc = pd.DataFrame( {'d': [np.linalg.norm(i-j) for j in df_std], 'l': labels} ).sort_values(by='d')\n",
    "    if dfc.iloc[0,1] is dfc.iloc[1,1]: \n",
    "        cnt.loc[dfc.iloc[0,1],'same'] += 1\n",
    "    else: \n",
    "        cnt.loc[dfc.iloc[0,1],'other'] += 1\n",
    "        \n",
    "p = figure( y_range=cancer_types, plot_height=350 )\n",
    "p.hbar_stack( ['same','other'], y='index', color=['steelblue','orange'], height=0.9, source=cnt,\n",
    "              legend=[value(x) for x in ['same','other']])\n",
    "p.legend.location = 'bottom_right'\n",
    "show(p)"
   ]
  },
  {
   "cell_type": "markdown",
   "metadata": {},
   "source": [
    "![](img4.png)"
   ]
  },
  {
   "cell_type": "markdown",
   "metadata": {},
   "source": [
    "- In summary, what do you think? Is it possible to classify different types of cancer using gene expression data? Which cancer types are probably very hard to describe which are easy? Why?"
   ]
  },
  {
   "cell_type": "markdown",
   "metadata": {},
   "source": [
    "<font color='deeppink'>**Task 2b)**</font> Compute the PCA projection and visualize the first two components in a scatterplot. Add outlines to each cancer type to make analysis easier."
   ]
  },
  {
   "cell_type": "markdown",
   "metadata": {},
   "source": [
    "Hint: scipy provides a convex hull implementation https://docs.scipy.org/doc/scipy/reference/generated/scipy.spatial.ConvexHull.html.\n",
    "**hull.vertices** returns a list of sorted boundary vertices."
   ]
  },
  {
   "cell_type": "code",
   "execution_count": null,
   "metadata": {
    "collapsed": true
   },
   "outputs": [],
   "source": [
    "# compute pca of data df_std\n",
    "pca = \n",
    "\n",
    "# create a dataframe of the projected data\n",
    "pca_data = pd.DataFrame( pca.transform(df_std), columns=['PC%i' % (i+1) for i in range(pca.n_components_)])\n",
    "pca_data['label'] = labels"
   ]
  },
  {
   "cell_type": "code",
   "execution_count": null,
   "metadata": {
    "collapsed": true
   },
   "outputs": [],
   "source": [
    "source = ColumnDataSource(pca_data)\n",
    "\n",
    "# color mapper. Usage: mapper['LEUKEMIA'] return the colorname of the given cancer type.\n",
    "mapper = dict(zip(cancer_types, Category10[10]))\n",
    "\n",
    "p = figure( plot_width=600, plot_height=600, toolbar_location=None )\n",
    "\n",
    "# render the convex hulls first\n",
    "for c in cancer_types:\n",
    "    # get the data for the current cancer type\n",
    "    data = pca_data[pca_data.label == c].reset_index()\n",
    "    \n",
    "    # your code is missing here\n",
    "\n",
    "\n",
    "p.circle( source=source, x='PC1', y='PC2', size=9, \n",
    "          color=factor_cmap('label', palette=Category10[10], factors=factors))\n",
    "p.xaxis.axis_label = 'PC1' \n",
    "p.yaxis.axis_label = 'PC2' \n",
    "\n",
    "        \n",
    "show( gridplot( [[p, getLegend(df)]] ) )"
   ]
  },
  {
   "cell_type": "markdown",
   "metadata": {},
   "source": [
    "Sample solution:\n",
    "![](img5.png)"
   ]
  },
  {
   "cell_type": "markdown",
   "metadata": {},
   "source": [
    "- Identify tumor classes (+ explain briefly):\n",
    " - Cluster\n",
    " - No compact cluster\n",
    " - Hard to distinguish"
   ]
  },
  {
   "cell_type": "markdown",
   "metadata": {},
   "source": [
    "<font color='deeppink'>**Task 2c)**</font> How confident should you be in the results?"
   ]
  },
  {
   "cell_type": "code",
   "execution_count": null,
   "metadata": {
    "collapsed": true
   },
   "outputs": [],
   "source": [
    "n = 60\n",
    "\n",
    "var_exp = pca.explained_variance_ratio_[:n]*100\n",
    "cum_var_exp = np.cumsum(var_exp)\n",
    "x = ['PC%s' %(i+1) for i in range(n)]\n",
    "\n",
    "source = ColumnDataSource( dict(x=x, var_exp=var_exp, cum_var_exp=cum_var_exp) )\n",
    "\n",
    "p = figure( plot_width=520, plot_height=400, toolbar_location=None, x_range=x, y_range=(-2,105) )\n",
    "\n",
    "p.vbar( source=source, x='x', top='var_exp', width=0.9, bottom=0, legend='Explained variance' )\n",
    "\n",
    "p.circle( x, cum_var_exp, color='orange', size=5, legend=\"Cumulative explained variance\")\n",
    "p.line( x, cum_var_exp, color='orange', line_width=2 )\n",
    "\n",
    "p.legend.location = (235,155)\n",
    "p.legend.border_line_color = None\n",
    "p.xgrid.visible = False\n",
    "p.yaxis.axis_label = \"Explained variance in percent\"\n",
    "\n",
    "show(p)"
   ]
  },
  {
   "cell_type": "markdown",
   "metadata": {},
   "source": [
    "![](img6.png)"
   ]
  },
  {
   "cell_type": "markdown",
   "metadata": {},
   "source": [
    "- Take a look at the provided explained variance plot. How reliable is you analysis based on the first two components?"
   ]
  },
  {
   "cell_type": "code",
   "execution_count": null,
   "metadata": {
    "collapsed": true
   },
   "outputs": [],
   "source": []
  }
 ],
 "metadata": {
  "kernelspec": {
   "display_name": "Python 3",
   "language": "python",
   "name": "python3"
  },
  "language_info": {
   "codemirror_mode": {
    "name": "ipython",
    "version": 3
   },
   "file_extension": ".py",
   "mimetype": "text/x-python",
   "name": "python",
   "nbconvert_exporter": "python",
   "pygments_lexer": "ipython3",
   "version": "3.6.2"
  }
 },
 "nbformat": 4,
 "nbformat_minor": 2
}
