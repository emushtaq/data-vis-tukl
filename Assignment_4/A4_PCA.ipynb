{
 "cells": [
  {
   "cell_type": "markdown",
   "metadata": {},
   "source": [
    "# Data Visualization (2017/18)\n",
    "\n",
    "## Solutions for Assignment 4 - Visualizing tabular data with many features\n",
    "\n",
    "Presented by Group 17: \n",
    "- Srie Raam Mohan\n",
    "- Eshan Mushtaq\n",
    "\n",
    "Date: 19.12.2017\n",
    "\n",
    "**Due date**: Friday, 22. Dec. 2017, 22:00\n",
    "\n",
    "Please hand in a copy of the solved notebook and a html-export of it.\n",
    "\n",
    "Remark: To keep the file size low, the notebook contains png images of solutions you should obtain. Double-click in the images to see the markdown code - do not execute these cells as you do not have the images."
   ]
  },
  {
   "cell_type": "code",
   "execution_count": 1,
   "metadata": {},
   "outputs": [
    {
     "data": {
      "text/html": [
       "\n",
       "    <div class=\"bk-root\">\n",
       "        <a href=\"https://bokeh.pydata.org\" target=\"_blank\" class=\"bk-logo bk-logo-small bk-logo-notebook\"></a>\n",
       "        <span id=\"f3cb8267-3c53-41fd-84fb-b28214fd588e\">Loading BokehJS ...</span>\n",
       "    </div>"
      ]
     },
     "metadata": {},
     "output_type": "display_data"
    },
    {
     "data": {
      "application/javascript": [
       "\n",
       "(function(root) {\n",
       "  function now() {\n",
       "    return new Date();\n",
       "  }\n",
       "\n",
       "  var force = true;\n",
       "\n",
       "  if (typeof (root._bokeh_onload_callbacks) === \"undefined\" || force === true) {\n",
       "    root._bokeh_onload_callbacks = [];\n",
       "    root._bokeh_is_loading = undefined;\n",
       "  }\n",
       "\n",
       "  var JS_MIME_TYPE = 'application/javascript';\n",
       "  var HTML_MIME_TYPE = 'text/html';\n",
       "  var EXEC_MIME_TYPE = 'application/vnd.bokehjs_exec.v0+json';\n",
       "  var CLASS_NAME = 'output_bokeh rendered_html';\n",
       "\n",
       "  /**\n",
       "   * Render data to the DOM node\n",
       "   */\n",
       "  function render(props, node) {\n",
       "    var script = document.createElement(\"script\");\n",
       "    node.appendChild(script);\n",
       "  }\n",
       "\n",
       "  /**\n",
       "   * Handle when an output is cleared or removed\n",
       "   */\n",
       "  function handleClearOutput(event, handle) {\n",
       "    var cell = handle.cell;\n",
       "\n",
       "    var id = cell.output_area._bokeh_element_id;\n",
       "    var server_id = cell.output_area._bokeh_server_id;\n",
       "    // Clean up Bokeh references\n",
       "    if (id !== undefined) {\n",
       "      Bokeh.index[id].model.document.clear();\n",
       "      delete Bokeh.index[id];\n",
       "    }\n",
       "\n",
       "    if (server_id !== undefined) {\n",
       "      // Clean up Bokeh references\n",
       "      var cmd = \"from bokeh.io.state import curstate; print(curstate().uuid_to_server['\" + server_id + \"'].get_sessions()[0].document.roots[0]._id)\";\n",
       "      cell.notebook.kernel.execute(cmd, {\n",
       "        iopub: {\n",
       "          output: function(msg) {\n",
       "            var element_id = msg.content.text.trim();\n",
       "            Bokeh.index[element_id].model.document.clear();\n",
       "            delete Bokeh.index[element_id];\n",
       "          }\n",
       "        }\n",
       "      });\n",
       "      // Destroy server and session\n",
       "      var cmd = \"import bokeh.io.notebook as ion; ion.destroy_server('\" + server_id + \"')\";\n",
       "      cell.notebook.kernel.execute(cmd);\n",
       "    }\n",
       "  }\n",
       "\n",
       "  /**\n",
       "   * Handle when a new output is added\n",
       "   */\n",
       "  function handleAddOutput(event, handle) {\n",
       "    var output_area = handle.output_area;\n",
       "    var output = handle.output;\n",
       "\n",
       "    // limit handleAddOutput to display_data with EXEC_MIME_TYPE content only\n",
       "    if ((output.output_type != \"display_data\") || (!output.data.hasOwnProperty(EXEC_MIME_TYPE))) {\n",
       "      return\n",
       "    }\n",
       "\n",
       "    var toinsert = output_area.element.find(\".\" + CLASS_NAME.split(' ')[0]);\n",
       "\n",
       "    if (output.metadata[EXEC_MIME_TYPE][\"id\"] !== undefined) {\n",
       "      toinsert[0].firstChild.textContent = output.data[JS_MIME_TYPE];\n",
       "      // store reference to embed id on output_area\n",
       "      output_area._bokeh_element_id = output.metadata[EXEC_MIME_TYPE][\"id\"];\n",
       "    }\n",
       "    if (output.metadata[EXEC_MIME_TYPE][\"server_id\"] !== undefined) {\n",
       "      var bk_div = document.createElement(\"div\");\n",
       "      bk_div.innerHTML = output.data[HTML_MIME_TYPE];\n",
       "      var script_attrs = bk_div.children[0].attributes;\n",
       "      for (var i = 0; i < script_attrs.length; i++) {\n",
       "        toinsert[0].firstChild.setAttribute(script_attrs[i].name, script_attrs[i].value);\n",
       "      }\n",
       "      // store reference to server id on output_area\n",
       "      output_area._bokeh_server_id = output.metadata[EXEC_MIME_TYPE][\"server_id\"];\n",
       "    }\n",
       "  }\n",
       "\n",
       "  function register_renderer(events, OutputArea) {\n",
       "\n",
       "    function append_mime(data, metadata, element) {\n",
       "      // create a DOM node to render to\n",
       "      var toinsert = this.create_output_subarea(\n",
       "        metadata,\n",
       "        CLASS_NAME,\n",
       "        EXEC_MIME_TYPE\n",
       "      );\n",
       "      this.keyboard_manager.register_events(toinsert);\n",
       "      // Render to node\n",
       "      var props = {data: data, metadata: metadata[EXEC_MIME_TYPE]};\n",
       "      render(props, toinsert[0]);\n",
       "      element.append(toinsert);\n",
       "      return toinsert\n",
       "    }\n",
       "\n",
       "    /* Handle when an output is cleared or removed */\n",
       "    events.on('clear_output.CodeCell', handleClearOutput);\n",
       "    events.on('delete.Cell', handleClearOutput);\n",
       "\n",
       "    /* Handle when a new output is added */\n",
       "    events.on('output_added.OutputArea', handleAddOutput);\n",
       "\n",
       "    /**\n",
       "     * Register the mime type and append_mime function with output_area\n",
       "     */\n",
       "    OutputArea.prototype.register_mime_type(EXEC_MIME_TYPE, append_mime, {\n",
       "      /* Is output safe? */\n",
       "      safe: true,\n",
       "      /* Index of renderer in `output_area.display_order` */\n",
       "      index: 0\n",
       "    });\n",
       "  }\n",
       "\n",
       "  // register the mime type if in Jupyter Notebook environment and previously unregistered\n",
       "  if (root.Jupyter !== undefined) {\n",
       "    var events = require('base/js/events');\n",
       "    var OutputArea = require('notebook/js/outputarea').OutputArea;\n",
       "\n",
       "    if (OutputArea.prototype.mime_types().indexOf(EXEC_MIME_TYPE) == -1) {\n",
       "      register_renderer(events, OutputArea);\n",
       "    }\n",
       "  }\n",
       "\n",
       "  \n",
       "  if (typeof (root._bokeh_timeout) === \"undefined\" || force === true) {\n",
       "    root._bokeh_timeout = Date.now() + 5000;\n",
       "    root._bokeh_failed_load = false;\n",
       "  }\n",
       "\n",
       "  var NB_LOAD_WARNING = {'data': {'text/html':\n",
       "     \"<div style='background-color: #fdd'>\\n\"+\n",
       "     \"<p>\\n\"+\n",
       "     \"BokehJS does not appear to have successfully loaded. If loading BokehJS from CDN, this \\n\"+\n",
       "     \"may be due to a slow or bad network connection. Possible fixes:\\n\"+\n",
       "     \"</p>\\n\"+\n",
       "     \"<ul>\\n\"+\n",
       "     \"<li>re-rerun `output_notebook()` to attempt to load from CDN again, or</li>\\n\"+\n",
       "     \"<li>use INLINE resources instead, as so:</li>\\n\"+\n",
       "     \"</ul>\\n\"+\n",
       "     \"<code>\\n\"+\n",
       "     \"from bokeh.resources import INLINE\\n\"+\n",
       "     \"output_notebook(resources=INLINE)\\n\"+\n",
       "     \"</code>\\n\"+\n",
       "     \"</div>\"}};\n",
       "\n",
       "  function display_loaded() {\n",
       "    var el = document.getElementById(\"f3cb8267-3c53-41fd-84fb-b28214fd588e\");\n",
       "    if (el != null) {\n",
       "      el.textContent = \"BokehJS is loading...\";\n",
       "    }\n",
       "    if (root.Bokeh !== undefined) {\n",
       "      if (el != null) {\n",
       "        el.textContent = \"BokehJS \" + root.Bokeh.version + \" successfully loaded.\";\n",
       "      }\n",
       "    } else if (Date.now() < root._bokeh_timeout) {\n",
       "      setTimeout(display_loaded, 100)\n",
       "    }\n",
       "  }\n",
       "\n",
       "\n",
       "  function run_callbacks() {\n",
       "    try {\n",
       "      root._bokeh_onload_callbacks.forEach(function(callback) { callback() });\n",
       "    }\n",
       "    finally {\n",
       "      delete root._bokeh_onload_callbacks\n",
       "    }\n",
       "    console.info(\"Bokeh: all callbacks have finished\");\n",
       "  }\n",
       "\n",
       "  function load_libs(js_urls, callback) {\n",
       "    root._bokeh_onload_callbacks.push(callback);\n",
       "    if (root._bokeh_is_loading > 0) {\n",
       "      console.log(\"Bokeh: BokehJS is being loaded, scheduling callback at\", now());\n",
       "      return null;\n",
       "    }\n",
       "    if (js_urls == null || js_urls.length === 0) {\n",
       "      run_callbacks();\n",
       "      return null;\n",
       "    }\n",
       "    console.log(\"Bokeh: BokehJS not loaded, scheduling load and callback at\", now());\n",
       "    root._bokeh_is_loading = js_urls.length;\n",
       "    for (var i = 0; i < js_urls.length; i++) {\n",
       "      var url = js_urls[i];\n",
       "      var s = document.createElement('script');\n",
       "      s.src = url;\n",
       "      s.async = false;\n",
       "      s.onreadystatechange = s.onload = function() {\n",
       "        root._bokeh_is_loading--;\n",
       "        if (root._bokeh_is_loading === 0) {\n",
       "          console.log(\"Bokeh: all BokehJS libraries loaded\");\n",
       "          run_callbacks()\n",
       "        }\n",
       "      };\n",
       "      s.onerror = function() {\n",
       "        console.warn(\"failed to load library \" + url);\n",
       "      };\n",
       "      console.log(\"Bokeh: injecting script tag for BokehJS library: \", url);\n",
       "      document.getElementsByTagName(\"head\")[0].appendChild(s);\n",
       "    }\n",
       "  };var element = document.getElementById(\"f3cb8267-3c53-41fd-84fb-b28214fd588e\");\n",
       "  if (element == null) {\n",
       "    console.log(\"Bokeh: ERROR: autoload.js configured with elementid 'f3cb8267-3c53-41fd-84fb-b28214fd588e' but no matching script tag was found. \")\n",
       "    return false;\n",
       "  }\n",
       "\n",
       "  var js_urls = [\"https://cdn.pydata.org/bokeh/release/bokeh-0.12.11.min.js\", \"https://cdn.pydata.org/bokeh/release/bokeh-widgets-0.12.11.min.js\", \"https://cdn.pydata.org/bokeh/release/bokeh-tables-0.12.11.min.js\", \"https://cdn.pydata.org/bokeh/release/bokeh-gl-0.12.11.min.js\"];\n",
       "\n",
       "  var inline_js = [\n",
       "    function(Bokeh) {\n",
       "      Bokeh.set_log_level(\"info\");\n",
       "    },\n",
       "    \n",
       "    function(Bokeh) {\n",
       "      \n",
       "    },\n",
       "    function(Bokeh) {\n",
       "      console.log(\"Bokeh: injecting CSS: https://cdn.pydata.org/bokeh/release/bokeh-0.12.11.min.css\");\n",
       "      Bokeh.embed.inject_css(\"https://cdn.pydata.org/bokeh/release/bokeh-0.12.11.min.css\");\n",
       "      console.log(\"Bokeh: injecting CSS: https://cdn.pydata.org/bokeh/release/bokeh-widgets-0.12.11.min.css\");\n",
       "      Bokeh.embed.inject_css(\"https://cdn.pydata.org/bokeh/release/bokeh-widgets-0.12.11.min.css\");\n",
       "      console.log(\"Bokeh: injecting CSS: https://cdn.pydata.org/bokeh/release/bokeh-tables-0.12.11.min.css\");\n",
       "      Bokeh.embed.inject_css(\"https://cdn.pydata.org/bokeh/release/bokeh-tables-0.12.11.min.css\");\n",
       "    }\n",
       "  ];\n",
       "\n",
       "  function run_inline_js() {\n",
       "    \n",
       "    if ((root.Bokeh !== undefined) || (force === true)) {\n",
       "      for (var i = 0; i < inline_js.length; i++) {\n",
       "        inline_js[i].call(root, root.Bokeh);\n",
       "      }if (force === true) {\n",
       "        display_loaded();\n",
       "      }} else if (Date.now() < root._bokeh_timeout) {\n",
       "      setTimeout(run_inline_js, 100);\n",
       "    } else if (!root._bokeh_failed_load) {\n",
       "      console.log(\"Bokeh: BokehJS failed to load within specified timeout.\");\n",
       "      root._bokeh_failed_load = true;\n",
       "    } else if (force !== true) {\n",
       "      var cell = $(document.getElementById(\"f3cb8267-3c53-41fd-84fb-b28214fd588e\")).parents('.cell').data().cell;\n",
       "      cell.output_area.append_execute_result(NB_LOAD_WARNING)\n",
       "    }\n",
       "\n",
       "  }\n",
       "\n",
       "  if (root._bokeh_is_loading === 0) {\n",
       "    console.log(\"Bokeh: BokehJS loaded, going straight to plotting\");\n",
       "    run_inline_js();\n",
       "  } else {\n",
       "    load_libs(js_urls, function() {\n",
       "      console.log(\"Bokeh: BokehJS plotting callback run at\", now());\n",
       "      run_inline_js();\n",
       "    });\n",
       "  }\n",
       "}(window));"
      ],
      "application/vnd.bokehjs_load.v0+json": "\n(function(root) {\n  function now() {\n    return new Date();\n  }\n\n  var force = true;\n\n  if (typeof (root._bokeh_onload_callbacks) === \"undefined\" || force === true) {\n    root._bokeh_onload_callbacks = [];\n    root._bokeh_is_loading = undefined;\n  }\n\n  \n\n  \n  if (typeof (root._bokeh_timeout) === \"undefined\" || force === true) {\n    root._bokeh_timeout = Date.now() + 5000;\n    root._bokeh_failed_load = false;\n  }\n\n  var NB_LOAD_WARNING = {'data': {'text/html':\n     \"<div style='background-color: #fdd'>\\n\"+\n     \"<p>\\n\"+\n     \"BokehJS does not appear to have successfully loaded. If loading BokehJS from CDN, this \\n\"+\n     \"may be due to a slow or bad network connection. Possible fixes:\\n\"+\n     \"</p>\\n\"+\n     \"<ul>\\n\"+\n     \"<li>re-rerun `output_notebook()` to attempt to load from CDN again, or</li>\\n\"+\n     \"<li>use INLINE resources instead, as so:</li>\\n\"+\n     \"</ul>\\n\"+\n     \"<code>\\n\"+\n     \"from bokeh.resources import INLINE\\n\"+\n     \"output_notebook(resources=INLINE)\\n\"+\n     \"</code>\\n\"+\n     \"</div>\"}};\n\n  function display_loaded() {\n    var el = document.getElementById(\"f3cb8267-3c53-41fd-84fb-b28214fd588e\");\n    if (el != null) {\n      el.textContent = \"BokehJS is loading...\";\n    }\n    if (root.Bokeh !== undefined) {\n      if (el != null) {\n        el.textContent = \"BokehJS \" + root.Bokeh.version + \" successfully loaded.\";\n      }\n    } else if (Date.now() < root._bokeh_timeout) {\n      setTimeout(display_loaded, 100)\n    }\n  }\n\n\n  function run_callbacks() {\n    try {\n      root._bokeh_onload_callbacks.forEach(function(callback) { callback() });\n    }\n    finally {\n      delete root._bokeh_onload_callbacks\n    }\n    console.info(\"Bokeh: all callbacks have finished\");\n  }\n\n  function load_libs(js_urls, callback) {\n    root._bokeh_onload_callbacks.push(callback);\n    if (root._bokeh_is_loading > 0) {\n      console.log(\"Bokeh: BokehJS is being loaded, scheduling callback at\", now());\n      return null;\n    }\n    if (js_urls == null || js_urls.length === 0) {\n      run_callbacks();\n      return null;\n    }\n    console.log(\"Bokeh: BokehJS not loaded, scheduling load and callback at\", now());\n    root._bokeh_is_loading = js_urls.length;\n    for (var i = 0; i < js_urls.length; i++) {\n      var url = js_urls[i];\n      var s = document.createElement('script');\n      s.src = url;\n      s.async = false;\n      s.onreadystatechange = s.onload = function() {\n        root._bokeh_is_loading--;\n        if (root._bokeh_is_loading === 0) {\n          console.log(\"Bokeh: all BokehJS libraries loaded\");\n          run_callbacks()\n        }\n      };\n      s.onerror = function() {\n        console.warn(\"failed to load library \" + url);\n      };\n      console.log(\"Bokeh: injecting script tag for BokehJS library: \", url);\n      document.getElementsByTagName(\"head\")[0].appendChild(s);\n    }\n  };var element = document.getElementById(\"f3cb8267-3c53-41fd-84fb-b28214fd588e\");\n  if (element == null) {\n    console.log(\"Bokeh: ERROR: autoload.js configured with elementid 'f3cb8267-3c53-41fd-84fb-b28214fd588e' but no matching script tag was found. \")\n    return false;\n  }\n\n  var js_urls = [\"https://cdn.pydata.org/bokeh/release/bokeh-0.12.11.min.js\", \"https://cdn.pydata.org/bokeh/release/bokeh-widgets-0.12.11.min.js\", \"https://cdn.pydata.org/bokeh/release/bokeh-tables-0.12.11.min.js\", \"https://cdn.pydata.org/bokeh/release/bokeh-gl-0.12.11.min.js\"];\n\n  var inline_js = [\n    function(Bokeh) {\n      Bokeh.set_log_level(\"info\");\n    },\n    \n    function(Bokeh) {\n      \n    },\n    function(Bokeh) {\n      console.log(\"Bokeh: injecting CSS: https://cdn.pydata.org/bokeh/release/bokeh-0.12.11.min.css\");\n      Bokeh.embed.inject_css(\"https://cdn.pydata.org/bokeh/release/bokeh-0.12.11.min.css\");\n      console.log(\"Bokeh: injecting CSS: https://cdn.pydata.org/bokeh/release/bokeh-widgets-0.12.11.min.css\");\n      Bokeh.embed.inject_css(\"https://cdn.pydata.org/bokeh/release/bokeh-widgets-0.12.11.min.css\");\n      console.log(\"Bokeh: injecting CSS: https://cdn.pydata.org/bokeh/release/bokeh-tables-0.12.11.min.css\");\n      Bokeh.embed.inject_css(\"https://cdn.pydata.org/bokeh/release/bokeh-tables-0.12.11.min.css\");\n    }\n  ];\n\n  function run_inline_js() {\n    \n    if ((root.Bokeh !== undefined) || (force === true)) {\n      for (var i = 0; i < inline_js.length; i++) {\n        inline_js[i].call(root, root.Bokeh);\n      }if (force === true) {\n        display_loaded();\n      }} else if (Date.now() < root._bokeh_timeout) {\n      setTimeout(run_inline_js, 100);\n    } else if (!root._bokeh_failed_load) {\n      console.log(\"Bokeh: BokehJS failed to load within specified timeout.\");\n      root._bokeh_failed_load = true;\n    } else if (force !== true) {\n      var cell = $(document.getElementById(\"f3cb8267-3c53-41fd-84fb-b28214fd588e\")).parents('.cell').data().cell;\n      cell.output_area.append_execute_result(NB_LOAD_WARNING)\n    }\n\n  }\n\n  if (root._bokeh_is_loading === 0) {\n    console.log(\"Bokeh: BokehJS loaded, going straight to plotting\");\n    run_inline_js();\n  } else {\n    load_libs(js_urls, function() {\n      console.log(\"Bokeh: BokehJS plotting callback run at\", now());\n      run_inline_js();\n    });\n  }\n}(window));"
     },
     "metadata": {},
     "output_type": "display_data"
    }
   ],
   "source": [
    "import pandas as pd\n",
    "import numpy as np\n",
    "\n",
    "from sklearn.decomposition import PCA\n",
    "from sklearn.preprocessing import StandardScaler\n",
    "\n",
    "from bokeh.models import ColumnDataSource, ColorBar, LinearColorMapper, CategoricalColorMapper\n",
    "from bokeh.models import Arrow, NormalHead, LabelSet, Label\n",
    "from bokeh.plotting import figure, output_notebook, show\n",
    "from bokeh.palettes import Category10, Category20, Viridis\n",
    "from bokeh.transform import factor_cmap, linear_cmap\n",
    "from bokeh.io import export_png\n",
    "from bokeh.layouts import gridplot, row\n",
    "from bokeh.core.properties import value\n",
    "\n",
    "output_notebook()"
   ]
  },
  {
   "cell_type": "markdown",
   "metadata": {},
   "source": [
    "# Exercise 1: Characterizing car types"
   ]
  },
  {
   "cell_type": "code",
   "execution_count": 2,
   "metadata": {},
   "outputs": [],
   "source": [
    "# load the data\n",
    "cars = pd.read_csv( '93cars.dat.csv', sep='\\s+', na_values='*')\n",
    "\n",
    "# substitute missing values\n",
    "cars.LuggageCapacity = cars.LuggageCapacity.fillna(cars.LuggageCapacity.median())\n",
    "cars.Cylinders = cars.Cylinders.fillna(cars.Cylinders.median())\n",
    "cars.RearSeatRoom = cars.RearSeatRoom.fillna(cars.RearSeatRoom.median())"
   ]
  },
  {
   "cell_type": "code",
   "execution_count": 3,
   "metadata": {},
   "outputs": [
    {
     "data": {
      "text/plain": [
       "Index([u'Manufacturer', u'Model', u'Type', u'MinPrice', u'MidPrice',\n",
       "       u'MaxPrice', u'CityMpg', u'HighwayMpg', u'AirBags', u'DriveTrainType',\n",
       "       u'Cylinders', u'Engine', u'Horsepower', u'RPM', u'EngineRev',\n",
       "       u'ManTrans', u'Tank', u'Passenger', u'Length', u'Wheelbase', u'Width',\n",
       "       u'UTurn', u'RearSeatRoom', u'LuggageCapacity', u'Weight', u'Domestic'],\n",
       "      dtype='object')"
      ]
     },
     "execution_count": 3,
     "metadata": {},
     "output_type": "execute_result"
    }
   ],
   "source": [
    "cars.columns"
   ]
  },
  {
   "cell_type": "markdown",
   "metadata": {},
   "source": [
    "<font color='deeppink'>**Task 1a)**</font> Understand your data.\n",
    "- Which of the variables are quantitative and can be used in a PCA? Store their names in the following variable `var`.\n",
    "    - MinPrice, MidPrice, MaxPrice, CityMpg, HighwayMpg, Cylinders, Engine, Horsepower, RPM, EngineRev, Tank, Passenger, Length, Wheelbase, Width, UTurn, RearSeatRoom, LuggageCapacity, Weight"
   ]
  },
  {
   "cell_type": "code",
   "execution_count": 4,
   "metadata": {},
   "outputs": [],
   "source": [
    "var = ['MinPrice','MidPrice','MaxPrice', 'CityMpg', 'HighwayMpg', 'Cylinders', 'Engine', 'Horsepower', 'RPM', 'EngineRev','Tank', 'Passenger','Length', 'Wheelbase', 'Width','UTurn','RearSeatRoom','LuggageCapacity','Weight']"
   ]
  },
  {
   "cell_type": "markdown",
   "metadata": {},
   "source": [
    "- Which variables can be used to divide the cars into groups? How many groups do you obtain and what size do they have? Do you expect differences between the groups and if yes which?\n",
    "\n",
    " - Variable: MidPrice, CityMpg, Horsepower, Length, Width, Weight\n",
    " - Number of groups + size of each group: 3 Groups \n",
    " - Hypothesis: "
   ]
  },
  {
   "cell_type": "markdown",
   "metadata": {},
   "source": [
    "<font color='deeppink'>**Task 1b)**</font> Compute the PCA.\n",
    "\n",
    "scikit-learn PCA: http://scikit-learn.org/stable/modules/generated/sklearn.decomposition.PCA.html"
   ]
  },
  {
   "cell_type": "code",
   "execution_count": 31,
   "metadata": {
    "scrolled": false
   },
   "outputs": [
    {
     "name": "stdout",
     "output_type": "stream",
     "text": [
      "PCA(copy=True, iterated_power='auto', n_components=10, random_state=None,\n",
      "  svd_solver='auto', tol=0.0, whiten=False)\n"
     ]
    }
   ],
   "source": [
    "# store standardized data in cars_std\n",
    "cars_std = StandardScaler().fit_transform(cars[var].iloc[0:,:])\n",
    "\n",
    "# store PCA in variable pca\n",
    "pca = PCA(n_components=10)\n",
    "pca.fit(cars_std)\n",
    "print pca"
   ]
  },
  {
   "cell_type": "markdown",
   "metadata": {},
   "source": [
    "Important variables for further analysis (see docu above):"
   ]
  },
  {
   "cell_type": "code",
   "execution_count": 32,
   "metadata": {},
   "outputs": [
    {
     "name": "stdout",
     "output_type": "stream",
     "text": [
      "[[-0.21923673 -0.21025491 -0.19445445  0.25192187  0.23278514 -0.25361055\n",
      "  -0.26873337 -0.22562212  0.13688857  0.23570203 -0.25953394 -0.14903876\n",
      "  -0.25039206 -0.25396087 -0.26308339 -0.23853951 -0.17007591 -0.19804681\n",
      "  -0.28196062]\n",
      " [ 0.35686937  0.38775897  0.39605094 -0.03913771 -0.04885004  0.06062673\n",
      "  -0.02711347  0.32203936  0.38305672  0.08309178  0.02311134 -0.37466912\n",
      "  -0.1143814  -0.16266144 -0.12825792 -0.14446414 -0.21524747 -0.1880147\n",
      "  -0.01738093]\n",
      " [-0.16048856 -0.19147843 -0.20751335 -0.07538725 -0.00647831  0.20142614\n",
      "   0.22109168  0.15255688 -0.23264908 -0.35009661 -0.0702752  -0.3939609\n",
      "  -0.02594589 -0.2223726   0.19586101  0.20201784 -0.5386729  -0.1396738\n",
      "  -0.0159694 ]\n",
      " [ 0.14734873  0.11872467  0.09039556  0.39456395  0.55149009  0.14687373\n",
      "   0.17099915  0.00084697 -0.11168963 -0.08789481 -0.22582585 -0.27996331\n",
      "   0.19119664  0.00910881  0.02521122  0.00465721  0.16633216  0.45601719\n",
      "  -0.15131021]\n",
      " [ 0.18258541  0.22774298  0.25391145 -0.12247737 -0.17568914  0.04113192\n",
      "   0.03490581 -0.32451209 -0.71553348  0.05007791 -0.09905703  0.02863057\n",
      "  -0.2141948  -0.11792202 -0.18825224 -0.23337195 -0.11489928  0.04843719\n",
      "  -0.07665896]\n",
      " [-0.01797512 -0.10428616 -0.16896286 -0.40456417 -0.26016528 -0.20340662\n",
      "  -0.14833356  0.00472013  0.12470177 -0.12384052  0.10469546 -0.32387389\n",
      "   0.04160251 -0.2265206  -0.13632025 -0.14900937  0.10613423  0.63453966\n",
      "  -0.10496888]\n",
      " [ 0.05919576 -0.07005678 -0.16973851  0.01951797 -0.10259346  0.29984589\n",
      "   0.20198554  0.1657504   0.01947812 -0.29036137 -0.11091036  0.00862974\n",
      "  -0.3976863  -0.26691476 -0.15540112 -0.04583421  0.6167894  -0.21628183\n",
      "  -0.11735252]\n",
      " [ 0.10499131  0.10287205  0.09551759 -0.09671971 -0.01997753 -0.47350713\n",
      "  -0.10767044 -0.09581082 -0.12958206 -0.08043224 -0.17420496 -0.25332005\n",
      "   0.1230409  -0.02493862 -0.1281851   0.66604723  0.24719017 -0.23322508\n",
      "  -0.07380786]\n",
      " [-0.03232891 -0.06982534 -0.09703085  0.12740923  0.06402703 -0.07180563\n",
      "   0.11714874  0.16234016 -0.25721448  0.56444257  0.54314325 -0.30656334\n",
      "  -0.21395934 -0.12232268  0.19212135  0.09773582  0.18263593  0.00252372\n",
      "   0.06921365]\n",
      " [-0.16418623  0.06387046  0.2419704   0.14113647  0.06520591 -0.04278575\n",
      "  -0.07822397  0.06065564  0.10841638 -0.14074918  0.09232035  0.26553322\n",
      "  -0.63691787 -0.02594084 -0.04905224  0.41370673 -0.19995855  0.37960862\n",
      "   0.00596268]]\n",
      "[ 11.71421034   2.63004267   1.12502406   0.96860696   0.57018912\n",
      "   0.40718417   0.37579631   0.30725187   0.28734596   0.2034158 ]\n",
      "[ 0.60990795  0.13693488  0.05857511  0.05043115  0.02968727  0.02120031\n",
      "  0.01956608  0.01599727  0.01496085  0.01059098]\n"
     ]
    }
   ],
   "source": [
    "print pca.components_\n",
    "print pca.explained_variance_\n",
    "print pca.explained_variance_ratio_"
   ]
  },
  {
   "cell_type": "markdown",
   "metadata": {},
   "source": [
    "<font color='deeppink'>**Task 1c)**</font> How many principal components to use."
   ]
  },
  {
   "cell_type": "code",
   "execution_count": 33,
   "metadata": {},
   "outputs": [
    {
     "name": "stderr",
     "output_type": "stream",
     "text": [
      "/Users/srie/anaconda/lib/python2.7/site-packages/bokeh/models/sources.py:137: BokehUserWarning: ColumnDataSource's columns must be of the same length. Current lengths: ('cum_var_exp', 10), ('var_exp', 10), ('x', 19)\n",
      "  \"Current lengths: %s\" % \", \".join(sorted(str((k, len(v))) for k, v in data.items())), BokehUserWarning))\n",
      "/Users/srie/anaconda/lib/python2.7/site-packages/bokeh/models/sources.py:137: BokehUserWarning: ColumnDataSource's columns must be of the same length. Current lengths: ('x', 19), ('y', 10)\n",
      "  \"Current lengths: %s\" % \", \".join(sorted(str((k, len(v))) for k, v in data.items())), BokehUserWarning))\n",
      "/Users/srie/anaconda/lib/python2.7/site-packages/bokeh/models/sources.py:137: BokehUserWarning: ColumnDataSource's columns must be of the same length. Current lengths: ('x', 19), ('y', 10)\n",
      "  \"Current lengths: %s\" % \", \".join(sorted(str((k, len(v))) for k, v in data.items())), BokehUserWarning))\n"
     ]
    },
    {
     "data": {
      "text/html": [
       "\n",
       "<div class=\"bk-root\">\n",
       "    <div class=\"bk-plotdiv\" id=\"314afe00-aa52-4483-9227-31c2c64f28a3\"></div>\n",
       "</div>"
      ]
     },
     "metadata": {},
     "output_type": "display_data"
    },
    {
     "data": {
      "application/javascript": [
       "(function(root) {\n",
       "  function embed_document(root) {\n",
       "    var docs_json = {\"5094f449-a285-462e-b55c-fc6583b8ba0f\":{\"roots\":{\"references\":[{\"attributes\":{\"overlay\":{\"id\":\"ff85c27c-e62e-43fd-9ced-f2ce08be90de\",\"type\":\"BoxAnnotation\"}},\"id\":\"d33c6ad2-5e30-4616-8538-077930f29804\",\"type\":\"BoxZoomTool\"},{\"attributes\":{\"line_color\":\"orange\",\"line_width\":2,\"x\":{\"field\":\"x\"},\"y\":{\"field\":\"y\"}},\"id\":\"a73518dc-2488-4f99-bb81-cc426cc9189f\",\"type\":\"Line\"},{\"attributes\":{},\"id\":\"fa66905f-3c58-4209-9cbf-ef8aef86a994\",\"type\":\"PanTool\"},{\"attributes\":{\"fill_alpha\":{\"value\":0.1},\"fill_color\":{\"value\":\"#1f77b4\"},\"line_alpha\":{\"value\":0.1},\"line_color\":{\"value\":\"#1f77b4\"},\"top\":{\"field\":\"var_exp\"},\"width\":{\"value\":0.9},\"x\":{\"field\":\"x\"}},\"id\":\"6201524c-80dc-44a4-8456-334ea1e662e4\",\"type\":\"VBar\"},{\"attributes\":{\"data_source\":{\"id\":\"7dcac0a8-4bce-4c5c-a1bf-bc407e3b8ffd\",\"type\":\"ColumnDataSource\"},\"glyph\":{\"id\":\"489acfe6-3e9c-459f-8184-eb5cd0f4321b\",\"type\":\"Circle\"},\"hover_glyph\":null,\"muted_glyph\":null,\"nonselection_glyph\":{\"id\":\"2e4f268f-eb78-44c0-9e79-104cc880c8ef\",\"type\":\"Circle\"},\"selection_glyph\":null,\"view\":{\"id\":\"63d93712-508b-4818-9bc2-821ad5848622\",\"type\":\"CDSView\"}},\"id\":\"8d6e5f18-bfa6-4614-8c9e-a97466a599b1\",\"type\":\"GlyphRenderer\"},{\"attributes\":{\"label\":{\"value\":\"Cumulative explained variance\"},\"renderers\":[{\"id\":\"8d6e5f18-bfa6-4614-8c9e-a97466a599b1\",\"type\":\"GlyphRenderer\"}]},\"id\":\"3291b74a-514e-4cfb-92dc-c7b82b6062b4\",\"type\":\"LegendItem\"},{\"attributes\":{\"line_alpha\":0.1,\"line_color\":\"#1f77b4\",\"line_width\":2,\"x\":{\"field\":\"x\"},\"y\":{\"field\":\"y\"}},\"id\":\"8a2e669c-ccc9-4801-b047-3f2c4f9f1238\",\"type\":\"Line\"},{\"attributes\":{},\"id\":\"fa079cfe-d70e-4192-95ab-d4454a613520\",\"type\":\"WheelZoomTool\"},{\"attributes\":{},\"id\":\"1dfde1df-fb8b-47d8-9fcd-79cf08ea5524\",\"type\":\"SaveTool\"},{\"attributes\":{\"source\":{\"id\":\"c988a265-84dc-4738-a49c-cefbe22a077f\",\"type\":\"ColumnDataSource\"}},\"id\":\"cb5d5b3e-9653-4cb7-b6fc-6c922dd46404\",\"type\":\"CDSView\"},{\"attributes\":{},\"id\":\"23d845bf-be48-4bad-a578-d307186a4288\",\"type\":\"HelpTool\"},{\"attributes\":{\"dimension\":1,\"plot\":{\"id\":\"7c425e18-53ab-4813-a3f8-fe245cc80af4\",\"subtype\":\"Figure\",\"type\":\"Plot\"},\"ticker\":{\"id\":\"44830e79-9f63-4055-babb-8038384f6975\",\"type\":\"BasicTicker\"}},\"id\":\"62b80e54-37e5-426d-816c-a30db1c92c43\",\"type\":\"Grid\"},{\"attributes\":{\"callback\":null,\"column_names\":[\"y\",\"x\"],\"data\":{\"x\":[\"PC1\",\"PC2\",\"PC3\",\"PC4\",\"PC5\",\"PC6\",\"PC7\",\"PC8\",\"PC9\",\"PC10\",\"PC11\",\"PC12\",\"PC13\",\"PC14\",\"PC15\",\"PC16\",\"PC17\",\"PC18\",\"PC19\"],\"y\":{\"__ndarray__\":\"JNh7YNJ+TkCkt/BJy6tSQLD8Vr6sIlRApLNTI29lVUDkmErBbiNWQLGsxFYdq1ZAjaDiZlYoV0DG3EZTuI5XQB2NGTB47ldAWJ0xcUAyWEA=\",\"dtype\":\"float64\",\"shape\":[10]}}},\"id\":\"c988a265-84dc-4738-a49c-cefbe22a077f\",\"type\":\"ColumnDataSource\"},{\"attributes\":{},\"id\":\"6bc27991-abea-4078-a697-d2b946e97adc\",\"type\":\"CategoricalTickFormatter\"},{\"attributes\":{\"source\":{\"id\":\"d585443f-61e2-4151-9327-a5460b609800\",\"type\":\"ColumnDataSource\"}},\"id\":\"de5fa873-fcec-483f-8ef8-207d6af5557a\",\"type\":\"CDSView\"},{\"attributes\":{\"data_source\":{\"id\":\"d585443f-61e2-4151-9327-a5460b609800\",\"type\":\"ColumnDataSource\"},\"glyph\":{\"id\":\"d4ab84ed-11d3-469e-beea-b7e258f61642\",\"type\":\"VBar\"},\"hover_glyph\":null,\"muted_glyph\":null,\"nonselection_glyph\":{\"id\":\"6201524c-80dc-44a4-8456-334ea1e662e4\",\"type\":\"VBar\"},\"selection_glyph\":null,\"view\":{\"id\":\"de5fa873-fcec-483f-8ef8-207d6af5557a\",\"type\":\"CDSView\"}},\"id\":\"cb54eee5-5b67-4682-aa3d-ad3ea943e7fe\",\"type\":\"GlyphRenderer\"},{\"attributes\":{\"axis_label\":\"Explained variance in percent\",\"formatter\":{\"id\":\"3aac1a51-67d9-4a2f-a505-75202eeb540a\",\"type\":\"BasicTickFormatter\"},\"plot\":{\"id\":\"7c425e18-53ab-4813-a3f8-fe245cc80af4\",\"subtype\":\"Figure\",\"type\":\"Plot\"},\"ticker\":{\"id\":\"44830e79-9f63-4055-babb-8038384f6975\",\"type\":\"BasicTicker\"}},\"id\":\"3070d3c7-99e2-43ea-a950-0207cf551d33\",\"type\":\"LinearAxis\"},{\"attributes\":{\"bottom_units\":\"screen\",\"fill_alpha\":{\"value\":0.5},\"fill_color\":{\"value\":\"lightgrey\"},\"left_units\":\"screen\",\"level\":\"overlay\",\"line_alpha\":{\"value\":1.0},\"line_color\":{\"value\":\"black\"},\"line_dash\":[4,4],\"line_width\":{\"value\":2},\"plot\":null,\"render_mode\":\"css\",\"right_units\":\"screen\",\"top_units\":\"screen\"},\"id\":\"ff85c27c-e62e-43fd-9ced-f2ce08be90de\",\"type\":\"BoxAnnotation\"},{\"attributes\":{\"plot\":null,\"text\":\"\"},\"id\":\"7a853256-a4be-4669-95b1-479a56c54810\",\"type\":\"Title\"},{\"attributes\":{},\"id\":\"44830e79-9f63-4055-babb-8038384f6975\",\"type\":\"BasicTicker\"},{\"attributes\":{\"fill_alpha\":{\"value\":0.1},\"fill_color\":{\"value\":\"#1f77b4\"},\"line_alpha\":{\"value\":0.1},\"line_color\":{\"value\":\"#1f77b4\"},\"size\":{\"units\":\"screen\",\"value\":5},\"x\":{\"field\":\"x\"},\"y\":{\"field\":\"y\"}},\"id\":\"2e4f268f-eb78-44c0-9e79-104cc880c8ef\",\"type\":\"Circle\"},{\"attributes\":{\"plot\":{\"id\":\"7c425e18-53ab-4813-a3f8-fe245cc80af4\",\"subtype\":\"Figure\",\"type\":\"Plot\"},\"ticker\":{\"id\":\"f52db314-2d0d-4d8a-8a8d-d42095444121\",\"type\":\"CategoricalTicker\"},\"visible\":false},\"id\":\"14568e68-c370-447d-a475-8e6518361baf\",\"type\":\"Grid\"},{\"attributes\":{},\"id\":\"f52db314-2d0d-4d8a-8a8d-d42095444121\",\"type\":\"CategoricalTicker\"},{\"attributes\":{},\"id\":\"74654ee1-a582-4f46-b7b0-a759145db2fd\",\"type\":\"CategoricalScale\"},{\"attributes\":{\"data_source\":{\"id\":\"c988a265-84dc-4738-a49c-cefbe22a077f\",\"type\":\"ColumnDataSource\"},\"glyph\":{\"id\":\"a73518dc-2488-4f99-bb81-cc426cc9189f\",\"type\":\"Line\"},\"hover_glyph\":null,\"muted_glyph\":null,\"nonselection_glyph\":{\"id\":\"8a2e669c-ccc9-4801-b047-3f2c4f9f1238\",\"type\":\"Line\"},\"selection_glyph\":null,\"view\":{\"id\":\"cb5d5b3e-9653-4cb7-b6fc-6c922dd46404\",\"type\":\"CDSView\"}},\"id\":\"f4d9dafc-afb7-48d2-a4a4-faca0fa0381c\",\"type\":\"GlyphRenderer\"},{\"attributes\":{\"callback\":null,\"end\":105,\"start\":-2},\"id\":\"106293f4-68e8-461b-b90f-0d863d702d1d\",\"type\":\"Range1d\"},{\"attributes\":{},\"id\":\"349bc8b0-ef46-4748-8a55-5beabdf512f7\",\"type\":\"LinearScale\"},{\"attributes\":{},\"id\":\"3aac1a51-67d9-4a2f-a505-75202eeb540a\",\"type\":\"BasicTickFormatter\"},{\"attributes\":{\"source\":{\"id\":\"7dcac0a8-4bce-4c5c-a1bf-bc407e3b8ffd\",\"type\":\"ColumnDataSource\"}},\"id\":\"63d93712-508b-4818-9bc2-821ad5848622\",\"type\":\"CDSView\"},{\"attributes\":{\"callback\":null,\"column_names\":[\"x\",\"y\"],\"data\":{\"x\":[\"PC1\",\"PC2\",\"PC3\",\"PC4\",\"PC5\",\"PC6\",\"PC7\",\"PC8\",\"PC9\",\"PC10\",\"PC11\",\"PC12\",\"PC13\",\"PC14\",\"PC15\",\"PC16\",\"PC17\",\"PC18\",\"PC19\"],\"y\":{\"__ndarray__\":\"JNh7YNJ+TkCkt/BJy6tSQLD8Vr6sIlRApLNTI29lVUDkmErBbiNWQLGsxFYdq1ZAjaDiZlYoV0DG3EZTuI5XQB2NGTB47ldAWJ0xcUAyWEA=\",\"dtype\":\"float64\",\"shape\":[10]}}},\"id\":\"7dcac0a8-4bce-4c5c-a1bf-bc407e3b8ffd\",\"type\":\"ColumnDataSource\"},{\"attributes\":{\"label\":{\"value\":\"Explained variance\"},\"renderers\":[{\"id\":\"cb54eee5-5b67-4682-aa3d-ad3ea943e7fe\",\"type\":\"GlyphRenderer\"}]},\"id\":\"00bb4276-2506-4b71-8590-b0a1e38493a0\",\"type\":\"LegendItem\"},{\"attributes\":{},\"id\":\"bb3510e4-7891-475f-b9c9-b1d19cc82157\",\"type\":\"ResetTool\"},{\"attributes\":{\"border_line_color\":{\"value\":null},\"items\":[{\"id\":\"00bb4276-2506-4b71-8590-b0a1e38493a0\",\"type\":\"LegendItem\"},{\"id\":\"3291b74a-514e-4cfb-92dc-c7b82b6062b4\",\"type\":\"LegendItem\"}],\"location\":[235,155],\"plot\":{\"id\":\"7c425e18-53ab-4813-a3f8-fe245cc80af4\",\"subtype\":\"Figure\",\"type\":\"Plot\"}},\"id\":\"c5f72445-02b0-439b-a554-24f63111bbeb\",\"type\":\"Legend\"},{\"attributes\":{\"fill_color\":{\"value\":\"orange\"},\"line_color\":{\"value\":\"orange\"},\"size\":{\"units\":\"screen\",\"value\":5},\"x\":{\"field\":\"x\"},\"y\":{\"field\":\"y\"}},\"id\":\"489acfe6-3e9c-459f-8184-eb5cd0f4321b\",\"type\":\"Circle\"},{\"attributes\":{\"formatter\":{\"id\":\"6bc27991-abea-4078-a697-d2b946e97adc\",\"type\":\"CategoricalTickFormatter\"},\"plot\":{\"id\":\"7c425e18-53ab-4813-a3f8-fe245cc80af4\",\"subtype\":\"Figure\",\"type\":\"Plot\"},\"ticker\":{\"id\":\"f52db314-2d0d-4d8a-8a8d-d42095444121\",\"type\":\"CategoricalTicker\"}},\"id\":\"8663ee35-15e8-4c6c-b275-fe71c44df119\",\"type\":\"CategoricalAxis\"},{\"attributes\":{\"below\":[{\"id\":\"8663ee35-15e8-4c6c-b275-fe71c44df119\",\"type\":\"CategoricalAxis\"}],\"left\":[{\"id\":\"3070d3c7-99e2-43ea-a950-0207cf551d33\",\"type\":\"LinearAxis\"}],\"plot_height\":400,\"plot_width\":520,\"renderers\":[{\"id\":\"8663ee35-15e8-4c6c-b275-fe71c44df119\",\"type\":\"CategoricalAxis\"},{\"id\":\"14568e68-c370-447d-a475-8e6518361baf\",\"type\":\"Grid\"},{\"id\":\"3070d3c7-99e2-43ea-a950-0207cf551d33\",\"type\":\"LinearAxis\"},{\"id\":\"62b80e54-37e5-426d-816c-a30db1c92c43\",\"type\":\"Grid\"},{\"id\":\"ff85c27c-e62e-43fd-9ced-f2ce08be90de\",\"type\":\"BoxAnnotation\"},{\"id\":\"c5f72445-02b0-439b-a554-24f63111bbeb\",\"type\":\"Legend\"},{\"id\":\"cb54eee5-5b67-4682-aa3d-ad3ea943e7fe\",\"type\":\"GlyphRenderer\"},{\"id\":\"8d6e5f18-bfa6-4614-8c9e-a97466a599b1\",\"type\":\"GlyphRenderer\"},{\"id\":\"f4d9dafc-afb7-48d2-a4a4-faca0fa0381c\",\"type\":\"GlyphRenderer\"}],\"title\":{\"id\":\"7a853256-a4be-4669-95b1-479a56c54810\",\"type\":\"Title\"},\"toolbar\":{\"id\":\"ecb0924f-2076-47c7-a70f-d08449b81aba\",\"type\":\"Toolbar\"},\"toolbar_location\":null,\"x_range\":{\"id\":\"5e2c7041-76bd-4a80-b71d-dc14209c493e\",\"type\":\"FactorRange\"},\"x_scale\":{\"id\":\"74654ee1-a582-4f46-b7b0-a759145db2fd\",\"type\":\"CategoricalScale\"},\"y_range\":{\"id\":\"106293f4-68e8-461b-b90f-0d863d702d1d\",\"type\":\"Range1d\"},\"y_scale\":{\"id\":\"349bc8b0-ef46-4748-8a55-5beabdf512f7\",\"type\":\"LinearScale\"}},\"id\":\"7c425e18-53ab-4813-a3f8-fe245cc80af4\",\"subtype\":\"Figure\",\"type\":\"Plot\"},{\"attributes\":{\"callback\":null,\"factors\":[\"PC1\",\"PC2\",\"PC3\",\"PC4\",\"PC5\",\"PC6\",\"PC7\",\"PC8\",\"PC9\",\"PC10\",\"PC11\",\"PC12\",\"PC13\",\"PC14\",\"PC15\",\"PC16\",\"PC17\",\"PC18\",\"PC19\"]},\"id\":\"5e2c7041-76bd-4a80-b71d-dc14209c493e\",\"type\":\"FactorRange\"},{\"attributes\":{\"callback\":null,\"column_names\":[\"cum_var_exp\",\"var_exp\",\"x\"],\"data\":{\"cum_var_exp\":{\"__ndarray__\":\"JNh7YNJ+TkCkt/BJy6tSQLD8Vr6sIlRApLNTI29lVUDkmErBbiNWQLGsxFYdq1ZAjaDiZlYoV0DG3EZTuI5XQB2NGTB47ldAWJ0xcUAyWEA=\",\"dtype\":\"float64\",\"shape\":[10]},\"var_exp\":{\"__ndarray__\":\"JNh7YNJ+TkCUXJbNEGMrQMNQZEYXbhdAO2/LTyYsFED1p9y+878HQJ95Qq/S9QBA6vZ8B0RO/z89Dg8Ze5j5P9EVrDT37/c/uQ4ERhDy8D8=\",\"dtype\":\"float64\",\"shape\":[10]},\"x\":[\"PC1\",\"PC2\",\"PC3\",\"PC4\",\"PC5\",\"PC6\",\"PC7\",\"PC8\",\"PC9\",\"PC10\",\"PC11\",\"PC12\",\"PC13\",\"PC14\",\"PC15\",\"PC16\",\"PC17\",\"PC18\",\"PC19\"]}},\"id\":\"d585443f-61e2-4151-9327-a5460b609800\",\"type\":\"ColumnDataSource\"},{\"attributes\":{\"active_drag\":\"auto\",\"active_inspect\":\"auto\",\"active_scroll\":\"auto\",\"active_tap\":\"auto\",\"tools\":[{\"id\":\"fa66905f-3c58-4209-9cbf-ef8aef86a994\",\"type\":\"PanTool\"},{\"id\":\"fa079cfe-d70e-4192-95ab-d4454a613520\",\"type\":\"WheelZoomTool\"},{\"id\":\"d33c6ad2-5e30-4616-8538-077930f29804\",\"type\":\"BoxZoomTool\"},{\"id\":\"1dfde1df-fb8b-47d8-9fcd-79cf08ea5524\",\"type\":\"SaveTool\"},{\"id\":\"bb3510e4-7891-475f-b9c9-b1d19cc82157\",\"type\":\"ResetTool\"},{\"id\":\"23d845bf-be48-4bad-a578-d307186a4288\",\"type\":\"HelpTool\"}]},\"id\":\"ecb0924f-2076-47c7-a70f-d08449b81aba\",\"type\":\"Toolbar\"},{\"attributes\":{\"fill_color\":{\"value\":\"#1f77b4\"},\"line_color\":{\"value\":\"#1f77b4\"},\"top\":{\"field\":\"var_exp\"},\"width\":{\"value\":0.9},\"x\":{\"field\":\"x\"}},\"id\":\"d4ab84ed-11d3-469e-beea-b7e258f61642\",\"type\":\"VBar\"}],\"root_ids\":[\"7c425e18-53ab-4813-a3f8-fe245cc80af4\"]},\"title\":\"Bokeh Application\",\"version\":\"0.12.11\"}};\n",
       "    var render_items = [{\"docid\":\"5094f449-a285-462e-b55c-fc6583b8ba0f\",\"elementid\":\"314afe00-aa52-4483-9227-31c2c64f28a3\",\"modelid\":\"7c425e18-53ab-4813-a3f8-fe245cc80af4\"}];\n",
       "    root.Bokeh.embed.embed_items(docs_json, render_items);\n",
       "  }\n",
       "  if (root.Bokeh !== undefined) {\n",
       "    embed_document(root);\n",
       "  } else {\n",
       "    var attempts = 0;\n",
       "    var timer = setInterval(function(root) {\n",
       "      if (root.Bokeh !== undefined) {\n",
       "        embed_document(root);\n",
       "        clearInterval(timer);\n",
       "      }\n",
       "      attempts++;\n",
       "      if (attempts > 100) {\n",
       "        console.log(\"Bokeh: ERROR: Unable to embed document because BokehJS library is missing\")\n",
       "        clearInterval(timer);\n",
       "      }\n",
       "    }, 10, root)\n",
       "  }\n",
       "})(window);"
      ],
      "application/vnd.bokehjs_exec.v0+json": ""
     },
     "metadata": {
      "application/vnd.bokehjs_exec.v0+json": {
       "id": "7c425e18-53ab-4813-a3f8-fe245cc80af4"
      }
     },
     "output_type": "display_data"
    }
   ],
   "source": [
    "var_exp = pca.explained_variance_ratio_*100\n",
    "cum_var_exp = np.cumsum(var_exp)\n",
    "x = ['PC%s' %(i+1) for i in range(len(var))]\n",
    "\n",
    "source = ColumnDataSource( dict(x=x, var_exp=var_exp, cum_var_exp=cum_var_exp) )\n",
    "\n",
    "p = figure( plot_width=520, plot_height=400, toolbar_location=None, x_range=x, y_range=(-2,105) )\n",
    "\n",
    "p.vbar( source=source, x='x', top='var_exp', width=0.9, bottom=0, legend='Explained variance' )\n",
    "\n",
    "p.circle( x, cum_var_exp, color='orange', size=5, legend=\"Cumulative explained variance\")\n",
    "p.line( x, cum_var_exp, color='orange', line_width=2 )\n",
    "\n",
    "p.legend.location = (235,155)\n",
    "p.legend.border_line_color = None\n",
    "p.xgrid.visible = False\n",
    "p.yaxis.axis_label = \"Explained variance in percent\"\n",
    "\n",
    "show(p)"
   ]
  },
  {
   "cell_type": "markdown",
   "metadata": {},
   "source": [
    "Here is a sample image to check your routine:\n",
    "![](img2.png)"
   ]
  },
  {
   "cell_type": "markdown",
   "metadata": {},
   "source": [
    "- How much variance explains the first and the first two principal component(s) roughly?\n",
    "\n",
    "- How many components do you need to explain 90% of variance in the data (roughly, use figure estimate)?"
   ]
  },
  {
   "cell_type": "markdown",
   "metadata": {},
   "source": [
    "<font color='deeppink'>**Task 1d)**</font> Interpret the axis.\n",
    "\n",
    "The following chart presents a projection of the cars data onto the first two principal components. Use techniques you learned in class to derive the meaning of the axes."
   ]
  },
  {
   "cell_type": "code",
   "execution_count": 34,
   "metadata": {},
   "outputs": [],
   "source": [
    "pca_auto = pd.DataFrame( pca.transform(cars_std), columns=['PC%i' % (i+1) for i in range(pca.n_components_)])\n",
    "\n",
    "pca_auto['label'] = cars.Type\n",
    "pca_auto['label'] = pca_auto['label'].astype('str')\n",
    "\n",
    "factors = sorted(pca_auto.label.unique())"
   ]
  },
  {
   "cell_type": "code",
   "execution_count": 35,
   "metadata": {},
   "outputs": [
    {
     "data": {
      "text/html": [
       "\n",
       "<div class=\"bk-root\">\n",
       "    <div class=\"bk-plotdiv\" id=\"dd9791bd-2b01-4815-b110-75c4b62c8cd8\"></div>\n",
       "</div>"
      ]
     },
     "metadata": {},
     "output_type": "display_data"
    },
    {
     "data": {
      "application/javascript": [
       "(function(root) {\n",
       "  function embed_document(root) {\n",
       "    var docs_json = {\"c5f14b8e-3a14-45b8-b060-4f77532eeb82\":{\"roots\":{\"references\":[{\"attributes\":{},\"id\":\"363907e6-625c-4803-bb9d-c6dc820e95d5\",\"type\":\"BasicTicker\"},{\"attributes\":{\"dimension\":1,\"plot\":{\"id\":\"a629f3ee-6373-444d-8287-a9c56474fb53\",\"subtype\":\"Figure\",\"type\":\"Plot\"},\"ticker\":{\"id\":\"363907e6-625c-4803-bb9d-c6dc820e95d5\",\"type\":\"BasicTicker\"}},\"id\":\"43a1756e-b82c-4ac8-9ad5-d6a29cbeec1e\",\"type\":\"Grid\"},{\"attributes\":{\"bottom_units\":\"screen\",\"fill_alpha\":{\"value\":0.5},\"fill_color\":{\"value\":\"lightgrey\"},\"left_units\":\"screen\",\"level\":\"overlay\",\"line_alpha\":{\"value\":1.0},\"line_color\":{\"value\":\"black\"},\"line_dash\":[4,4],\"line_width\":{\"value\":2},\"plot\":null,\"render_mode\":\"css\",\"right_units\":\"screen\",\"top_units\":\"screen\"},\"id\":\"bcd783df-c05a-4dd5-b87a-237b49541487\",\"type\":\"BoxAnnotation\"},{\"attributes\":{\"callback\":null},\"id\":\"b73e335d-fb4d-47e4-bcda-7ea6b72b7993\",\"type\":\"DataRange1d\"},{\"attributes\":{\"fill_alpha\":{\"value\":0.1},\"fill_color\":{\"value\":\"#1f77b4\"},\"line_alpha\":{\"value\":0.1},\"line_color\":{\"value\":\"#1f77b4\"},\"size\":{\"units\":\"screen\",\"value\":9},\"x\":{\"field\":\"PC1\"},\"y\":{\"field\":\"PC2\"}},\"id\":\"b3cacdca-1d59-4bcc-ab99-308b262c7c85\",\"type\":\"Circle\"},{\"attributes\":{\"axis_label\":\"PC1\",\"formatter\":{\"id\":\"fe642908-73fb-4a18-abe5-0c9458382e12\",\"type\":\"BasicTickFormatter\"},\"plot\":{\"id\":\"a629f3ee-6373-444d-8287-a9c56474fb53\",\"subtype\":\"Figure\",\"type\":\"Plot\"},\"ticker\":{\"id\":\"e4087e6e-714f-456f-bc35-2ac9071e0303\",\"type\":\"BasicTicker\"}},\"id\":\"9ff1ddd8-e743-48e8-b11e-cce364c8c1bd\",\"type\":\"LinearAxis\"},{\"attributes\":{\"callback\":null,\"column_names\":[\"index\",\"PC8\",\"PC9\",\"PC2\",\"PC3\",\"PC1\",\"PC6\",\"PC7\",\"PC4\",\"PC5\",\"PC10\",\"label\"],\"data\":{\"PC1\":{\"__ndarray__\":\"zMt4rZBYBEBouJnpNyYIwPC0vQ4meu2/Qs0HR7mxBsAe6JPy5eP0v4wgGRlOato/D53+g6hNCsAc+dCcWiYawPxwj6arrAbA1FzFDUlHGMDmsHcHEe4WwD4wq/Tl+QJAVjrp6j4y/j/BUOmbWUTxv4E/pPU6jM2/P2mtraMgCcCYsOom3Y0UwHtwVGKevxbAKuaQZ1p9EcB7yjbXdLADwOokjINOw8O/pOpTdgm2DMAsSdU8nDoSQI309IRL1QJAjUZUC8A55D8LiKPTY0IDwH9bAjIoJNS/nNoff/PR9r8RS5Ld/6MNQBf0UcH/AgXAwCstQbTUGEDv/bIKQsEHQBAhbkfPFPk/uudV9UqR9j/5D+WyFdD4P3MJfnwqPgvA72x440JS9r+HxBn3TJQWwBk8dgkcHCBA+lFOpS1cEUDWi8P6uzT/P1Dud8jKwhJA+0U3BmB86j9S53NDU4USQGg3sB0dSQdAZlnsevMkE0A9tRfk0RnfP+SlzrTYkRjANzXRnTiW/7+9ecABnZIAwKw135Vo0xHAs6zmXP+8G8A+GdyoQIAPQFbsdpWvKwlAA0IlsYae7D9gRY1Y+4IBwDdFqgcq26k/kCILx9s84j9je6PCzX8QwEU+m7HXwBBANQO8nYTPAsDZeXFtpXgOQBe/3qD8ngLAWpzjJz1RDkAPvSJsAbzoP3ksG54rcwfAYHjsd3ns9L+c5+vnazT0P3jM6ga0R9k/rXMtYDITDcD0GRDNidUKwKMkgUp8AQVAkNV9yLBHEUCn8CaWmTgCQNsxPzvbq/W/ekwT2gz3AMBVsfbndAcKwGo8opi9TuM/+N1Y512cBUCepmge/zMcQKRP/roW/whA2aNrmCtT8T/D9/x4YWQbQANVaM0MHxVAqSBFlMKn+z8rOMNexzHMP9xmdtUy4gLACcybe0WREkDSjGqpY6ECwH0HMQhFJuw/czzqA2Xi2j8Gp7u5KFvRP0eHcC/p5uy/\",\"dtype\":\"float64\",\"shape\":[93]},\"PC10\":{\"__ndarray__\":\"PBhE7ja2x78btgA6m2fiv/70ttMfDoi/kuMLbFu2tD9labUO6RqYv8wdjFaMcdk/y0X1as7hl7/MV8mg/BA9PzgAnj5WENy/QqJbcuK0378mPrKq8uXTv0aMrTfG0MY/IcHP34TNrb/Rn5lMrWzavyTboFgszsq/ryyFWc5M7z9Urbc9YmO5v6uzV/ckJ9i/BpJNT7lluz8NBxgZfKvov1T+/zGF79E/LXcNF4GE0L/NLILz0cXrv3VbJ54Sebc/O+iky1Fev7+dvifKiBv0P3ijXrKmRZ8/A+SxOsYO5D+Me2C56WyVP/pCt+8TLNu//o8nkqOU2z/JEtkB+rBVvzywHOVx6NW/aa0nLwSwpb8qF6/qJyTlP1S9zNur7fM/vncbS5jE0z/PcT5ojWGxv2yq5IP9gdk/aIraxwRDoj85IWO9X+XUv36y+yOABsg/Tcu1sy10sz+ujI36uqK/v8OutTxUttG/2auK88Sm4L9m4H8HJ/6iPxTMSL7V0Zk/csrOorgdyr/YaPb0hePvv5kTfb88k1i/ocJa3ry8tD/RsdeP7iHTP00IqV3ma9A/KfeaY6pQwj8qI/QmttWZP35AeXCj/rI/AfShYhva2b8zP6hpwOLpP5nX44ZN3d6/mZBBshat87++XN6J/yelP94yP1OqXNo/PzvGkapmn79E0dSVqPHYP8srYHM13NA/GEuLw4JYqL/dfKKWAY+9vxq+r+4eOtE/0oYV9a6/zj+6k6jtKra/vwbPPi0m7Ni/ByfTmXMmtD8W3ACvft6UP3V+2c8azty/DRIMHRaGwL/vItnbSUf3PyMC6sYjtMM/x7WFdvrP1T8C35n/I/LXP/J4s/Fv79O//4kpD9dDxT9yFJhHEfDCv9MthOXJUtE/Gpa+WD7r4T9dZP/n+xvBvwabrDoGRYS/4vl9xuRK4L+7srFztxzmvyPTOfaKwd+/axeCmYU/5T8AU30ZuF3lv6SrxZFHH7g/\",\"dtype\":\"float64\",\"shape\":[93]},\"PC2\":{\"__ndarray__\":\"3dg4tf7u6D8T9YriuSr7Py14rCUzP/w/FdkVLwQI/D+yyIvWTuUBQPYrKIicdPW/OdkpnLpj9r+G8q/vx5YCwF6pfpDozNM/0kpgBKvz3b9ogf1rFQkIQJV0jPY1veG/PLcnsJta8L8xsTa964Hiv3TzF9CxG/i/sbCFsdVs/r+wrGEvbs4IwJb9rzZlNwPA51PV4uLUD0A/bWlqkkf0v62L6zrp0/S/yBhGn/lg6b/CJXMne4edvyvb0yW2XfC/YO92DFo9/L/Yddb8phTyv9o/dbNdoP6/iSAjTROMC0B93QzIC6p8vzIG8T2eG9m/ikSjbu740L+cHIVSLZnDP41bTSDUMPm/dyzVVoHB0L+HqgTR4xXGv98P1wTedvq/VlpBn90L6L9O9HYshUUBwHOC6xpPvL2/yvBJfnJJ0D8jEd4ens77P1hbRIIJkca/hzW/VhMfyj/xaXnJtMvgv6EfXhX7r7m/fYXs9M854D/rxdZ5TjDiv9NfuEsISRBA6W4eLJaW9D/g98ozXPwNQO2+c7eZnL2/nmq6XqJl0r81fG8Yx6Hwv1PjyV0XJuC/UdcTpGLRzL+RMmFKl1bwv/aXvw3wlBJAjqdZ/E0L/j/vyjbpcBEWQLL07vbp7/k/QjGtyC4wAMC68QvwWxDKv0tHDpIJhPY/1GmT7RvbzD+xUjrxpl/Qv7IqH1985/W/MFxY+q/lxz9pqOKLySXDvwk/R7FJIfC/jfi5xJJb+r+ZxYCr9OX3vxJDTRhurM0/oFlcIG4G5r9yJ+DJC4fnv+yHMnW4ytW/HZjHcq4M4L8n+Nwhx7ztv8MC7nGcMQBAUjFpVrbO9b+YJNePzkTiPwF/EYoVq+a//S7GBsJz2T/F6eTCRuDDP0r1/fSSwdW/dzD8rahm6j+vjxuB+ezQv8fWB0IEBfa/LvpAiHK7wj+m6Q1YS5//v/coLLSvYdw/abOnwzOhAUB6ils2uM7PP4t0MfsiRPc/\",\"dtype\":\"float64\",\"shape\":[93]},\"PC3\":{\"__ndarray__\":\"bM7H4yPA4r/pLnmZlbjzv5kcwPcAEN+/xTgqSxSJAsBeohxi+47Yv553IZ/IheW/vtSTcA6h1D/jXb1jBRjwP6QvYY5PgPI/oFLCxREA3b8CtaXxRqTDvx2CVz+MZd0/rbvw8QrLzD99JHAP8QYHQBLPsKi1oeu/fQj3KS562z8twCB7vMTRv024FdWD6fQ/zzFLjuz3CUASCErHqTTZv2qxQ9cm1te/Dm7o1sNn+b/hLArDesrsv0m65BNvk+A/0LpI0JuK6b8jpzqrCPfJPwENZ6g1++i/41VI5QDRBED9iGg0eBLRv948PepZbc2/i0tV4ahG0T/0HntqIRLTv/a/eFIX0Ns/aqksNkgi+D9XK/f/cNfuPypoD+BKi+C/SjFeQHZV5T+p0gFm+0zzP+hugmpAFfO/WVzQwI9R1j9IyV7eye/sP2Oat61IbOC/OtXbBfAxzL9n7jfFIayhP2jZBWOLItm/eTIBzKth8D8h7/+hiv7mvyn8XmK5A+a/4k3mG8d1wD8v1XS5YmHUPykLXxDuBOC/lZdPCpF027/xt2nT+4jZP22N2SXxncI/Sy+5Hnme27+niQm44yvTv3YvCQQReao/ezoWIUtg7L+wTATFnGEBwMKfNMLxvf8/aTnZXhC99j/gghXeFCSEv3LXn5wmZbY/4BcWq4S5yb+2+QkN6kOzv3m3lHl3ocI/lEv9oAii2D9MCfxeN3XQvwmfEngFBM2/TCvh8FwqzD9031a3qkzCP7lh0HIOtvU/BVn3U/yl0b/fzZ6HSF7cPzGXHO2yMwZALxa0oLZ97T8H3X5WRerFP/TZZElz3PS/Hj78gnI05j8HCHE721zVPyfhHAy+Du2/Ljo16XPW2b+n1pqswH/rv5bpZCj2cHW/GuhotxHK8j8gxHvl0OrcvyYOMfs2sgTAzwOdIQNg4z+OCLqPG40DwIB3aFfC3vy/6YIApCPh3T88WIVvlqvuv3CPbNZtyfS/\",\"dtype\":\"float64\",\"shape\":[93]},\"PC4\":{\"__ndarray__\":\"oQe3KvnE4r+Wa1DKt7zOP7IBU8+WSMG/dHAnDGXT1D+An5N/3KyePxyekH6pfrM/W5+hr4oi5z+k/k4d41LzP138DbVmG9E/RoOAiMyM+z8pwhcrcYDiPz8liRYLetk/XRzPAzUP0T968asyGbzBP1fmj9wUTsG/Lf+Zd8wA9b9WGQQ7clYAwHVnCeYr+/A/rymRt0D99j8lsgHVUzvIP6XAm+9e3cm/TFtoiPOs8z9z50VfT1XWvzKaoYyOJeC/AP2UwsUS479dfNPgPCsAwEhXuCI9mru/4WPJk2EA+r9KaJoFkALAv7fCu8kVObY/LfDY8kFWxz9qJ5MTFTvpvzSoWGS7n+W/FCR1+Z6W179PBr6HvPPhP9ExY9YsiADAenUSVQ4i8j8GZDVMDgT4Py0YlQDdNARAYL3KGlWF1T+7A4LnMHruv3O6e6M43wVAxvGy2CYe0D8dcgy6FlnQv560/K/KT++/3tJ6khjO3b8YQrTE1HXmv32q6fqNaNo/Af3Cdyeu3b+RqFaDlTf0v0qnEpfS0PI/eLYhhVDPAUBzSV8XE/X1P9jZdaTDfd8/Yr5LL9u25T/NXwOk7zv2v1KYjz9WVtq/ZRnE3tc+yb93rslVXCzuPx8aertjqwDAJgbJP3k+yj/M5Y3gimDNv6e61Uov4ue/n8yVS7r9tr9MW0WLRyqWvy22xMlbBvq/ekDKdLTpur+/LluPMzGfP7Ii7hGmitw/Wb/p6tcA778T82etlinpPwbTa63O0PG/9w94mqZP/z/+wI+MAhrcv0fDEBDs9NA/Y6QoQnzS1z/OlH8gZbblP6JgGTuwe+a/zOOUwxH46T+EorsrX0/EP84d0l75ZMu/H2J9QJH0wr/VmLWpIRP3P2DOkoHMas8/cpXtfOawoz8HHMg2Okm8vw4yVJcC3Pe/uBKdULtK2L8P0/afPO78v6b4Hfx0RtK/xrZ5LvCx4r9EszpP+nyjP6+vskENyLu/\",\"dtype\":\"float64\",\"shape\":[93]},\"PC5\":{\"__ndarray__\":\"z4xYpq5h8b91UtUpRty5P6dg84rD++U/PuRd5rTb5z9Bh5+xM9jgv3pPewV6RMa/OcI8afWR1b9Y/qSY2nmvPwY197ivUNU/3Id20ivk8j89Fg+y1gf2v8LM4+THXLc/sd9KyGo/0b8jFGa7xdx/v7+tqeb4Gda/uwiBtrAB1788w+awSmzJP6VxssHFoL6/EXnvgk213D/M1G1hv6Dvv3wWYFfx8Ky/tm3W7juw1j9+3CrWg5TXvxSGSeUKcu4/qOJ2jVlo4T9wKrKX5vjQP4TmDef3SNI/VYHY7ubu8b+5lauFIxnhv9HpjN8Xdf2/RD68QE4U+z/r6t61xo71v8g9g13XqfY/zw/CTIGC8D8OUMl1D0rDv8U4P0xNZbw/uBND+wiM2T/mtZILRAe7v/AaBRfbS9G/D8aihu7+0D/y+VvLMKHhv3NHVKrNgPW/afh7vg9n6L8bt4s7IC/TP8o33JJMc+S/fynW+rjR2j+AiRwetYL1vzi73h4J9ti/FVv2OAcp3T+zNlPYadXXv4HGKtwljPQ/FUlPgsKgrT81h/UULDLlP+BA3KtZzMG/2W2oZBK98L/jijc9Uh+4P2KGHk6bC+i/R9a8Imj4/T+5tAMu8/kCQIYk5RpwteQ/GRbox0Iv8T/Rll0srF/lvztEtIOYrvG/L8h4Ko5E178VS6BDD//mv0ZCSg9//rI/ODZbSRXzmr+jT6oe+dv1v/etm9Ya29S/8N0Esn2V2L8GLlc2RWjZv8oc1vxDu+U/PfrOA/0/0r/cSxGvTD63P0J82qXXHbQ/76tQUe773r+1gE+AWRXJPyiWc2Io09U/5tpQF2mClb+ZmqnfeE7uPzR/ujGkv+U/J9+5czpilj/QFQCsECLhv3rfPS6bLOY/Gs5uggvgsD9up+1kdV/Qv0pvUoPWx6g/uaBxRwlL4j+TcRwGdp/rP4AYuLNxGdG/khlWrzHV4j9DTg3RIFPZP6wfVgra5em/\",\"dtype\":\"float64\",\"shape\":[93]},\"PC6\":{\"__ndarray__\":\"FuExmScV2L/02rOwxpvDv6PhLntdlcQ/TC4fwdym0T/+6l0oTwTTv2lhXyIp8dM/VKVPro5FoT/QDMv2jN/eP1M3H//02dm/MTgldzCX1b+R9Ab1B3/sv05tK6USJ8W/Ds5Zlmnamj9S4NFuATy8v5E6zhoylNQ/C/wQ/NYO5b9t5jwK+rbkv+2LXmU6GtE/qQJA8fmwzj8nRalHigjTvx3aJfCBi3+/80xY7751tj9T35YGEcfFv+MY2ZbyldQ/n6CCbP9Pyj+L6BtxVZrivyKcIp8bqN8/ZWJTYwSEzL/s7UdPZnTSvzwnFLnWG9O/hsj4xrEH1T+vEwX7aWXlP/bCQFBPDtA/3iH0HLy4mj/hg/5TVmD3P8KuZAWCY+a/XSSSt3IA4T8dOnQnmBPTP5NRmyLDkP6/Mjb3gV455r/1MH/+raTxv5RZlkSHN/m/EzU0R0iX1D+itDrPpiK1vxEtckSk6eQ/8ZWga0mZwL/wMvW9ejHvPxHDJEn2iua/eqaFAgP1vj8k4+Umj7Hqv+jcIY2HFtE/a3HpjJdnpL/8iFaBQp/wP47nrr3R+LY/nDW5STw5wL/AXjKbGB3iv4BGoiUpggJAGTjX2nYN07/82r6LkJ/vv3AXqiLF0uS/WaREXVv5pr+M2eTeE2fRv4ofcdjD3aI/bg8QA3VBuj8nj+4TSWHXP1/T0oHtxue/5a5OFnynuj/DpcLjJZffPwtqhz1y2Nw/sfj4vXDC5b9GhSmOHU+yP7iqrIL95eC/Q8i1E5SA5j9pIEvgIdjMP2P6bVW1f86/omErNP0u1D9uyk35xPeHvxlYUmxyL+U/QyXfBesL6b9/a6AEeO29v7KiUvmGfe0/fj/gWl7x2T9+ujN+EdHuv/r3CRidPu+/TV+L/rWHez+ymxOeM3XnP1667JQ7x8O/LzvMFBq21z+lPPOP3XzTv1CLMaxwW+s/g9XRYrx09j/fvrjddyzkP5zmJBBmPOY/\",\"dtype\":\"float64\",\"shape\":[93]},\"PC7\":{\"__ndarray__\":\"SI5BmP8Sy78jeMH1nmbRv3rNMoXL2OA/Dh6LarsUzb+ZsjjsGPvrv+b0sOFxs+m/9IiAEv7kzT84YXe2r0XmvzCPf68vfdO/uFmXU9GR9j9Bf1+lXuHoP4Y8lYLM2OK/z4g/cK/q57+E4gQgnXi7v5bRglhVQ/O/aakiWrfB8D/nHiid2bbpPx3a6tAS+tK/Hw/t7L8v/z9U0UDg/tKfP+TA4FgW/uU//E+PpCok8z87CF8mFT+xv/UvOi81DME/WA7Vqydw1j8YpGH/urfFv/kJPKVLRM6/LswybyCx478ImRKD4aLLP8Hl7c6lRKs/MWyyQrC/8z8xEkxgdx/qPxchN9b7EbK/GcQp8yTU578DLSFHEsj2v0e0ikMAbr0/BXmrYDTk1r/YJX40zgrHv0yey/XFzdU/PLET83Ev2b+J3FNobsLjv5xgpd/Z8ZM/w+kc3V7r4r9l28xUozjiP3l0UBRBbOM/iTabQgro0z8GGDK3JL3ZPz9li0Moo8o/ojnnAEztsT/K1E8W5k3bv/TgerHvPN+/GOOm5jlJ5r8mzVhUJ+zWP/A/46t3OdQ/ZExJela3uz856UaDYIbWv9XGTsI0Zdg/wp7MfrdE2b/piXH+JkXwv26yho9EFda/iO9EOoruyL8KtPpV16jIP9b7HLBaMcK/bvifIVZs1z86dv2gteDQP1ge16hoKuS/X1v8iNFD3z/BoBhQSgKlv4JBQI3iXu2/HUW7zbwM4z+4oU+3wkraPyUVKD1unpC/foFL4zpd8L9J5KBkhULjvyPaH4wzR9S/3IiyTs/4wD/AYK6tZN7jP0yIz2yImuu/d+f0OtqxoL8kMggc7eTmPyNucypl89G/YrkYkyTqy78sijUPwGbeP6y78ZrF/NO/vKsqPCJv7L9/wCTFbQndvz8IxO6ajtU/olYKps0a7z/s/XSmDjqkv9oMYLDaLdk/ewPle4Gr8D84DW78bmWKP+M0WG3Pwck/\",\"dtype\":\"float64\",\"shape\":[93]},\"PC8\":{\"__ndarray__\":\"YFAkDV4urb+KeMSg4g7Rv3OsEI2lGOC/3Rot6uHm57+lArtvGA/VPxAqtyQLfd0/Y/k9N+aPWj8MB2GPASi0P7k5oJkZd7g/PoSVCLlT1D/5Iv68fgy9Py/BeBN5IsA/ISmADunmwD/T+rlRkgLjPzmrO+ifONE/JvfyrTJzmb/drtXnGz3lv1YBg7Mh4fW/INqLEIrO1j+1iJItTxzYv9I3EDvthek/e+MrSqP/9z/kOspm30nyv22evE2hk9E/EiDPkfHn2j8yYOQ4pyLjvwfDGBvPWPA/JDhqXj6o6r9OnRjiPMi6vyyNxNy13+W/zHASdv9x4L9fJ6DqsAfSv+0why6BTuI/b2txcilJ7j/wsUUFpcTZv74pOCARP9U/dVeV6XX+07+ZTXC81r3wv9RPaxYf5ba/pkygHFh3tD9Jrxok8uPgP1LdKA/qRLy/7CwQ34Wb7j8TTGGDOQ7Qv019BmhkTMm/f+4BkwlvyL8D8z9HNU7sP6GsWDJqbti/a9MaM8wNob/y+18ezP6eP5btq8XYz9Y/V9qOQ91Nzr8EpSDzPaLjv1n3nMF0c9G/OXWPDFnU4D+fp4U9HRbxv4WpPK8MIuQ/JkOupPAEgD+NgvovSGmzP+UzGZ1a780/QyBmir/A4b/Kd8ysZB3Qv1JJqa6vCNI/qTUmhWB27r/dnaarYFHiP0SlYlcQl+e/Z5DfAoQBxD93mKUhhWjPPzroNNjuKew/UcqhulKkyz9zn6eXjQm3PwuDIDVTTPA/MkHQO8n/6L8XkJ9eG/rRP/K+Xt/cIuU/vircEuuLvL9mYlIQbRSdP4M7Zr3pwKs/DXv59I9b6T+wA5wv/H3Wv1Ot5lyWCeS//s8gGN0Wob+ZXYKUesStP/APydy12Ne/wS8q9dnyzT8SVHYOpQm0P7q+PxOOY+s/pEreU/S9tL8P4httqYDVv00TweG0EM2/MF3Gt4dd8b+xsVwOfl/gPyqej425VMi/\",\"dtype\":\"float64\",\"shape\":[93]},\"PC9\":{\"__ndarray__\":\"pS1YJMsY2b+a6wk8rJLOvyAS+KqsfNi/jAPd8648xz8FOaCgGsPxP2KBNrYdxri/cGuItuHK3787TzLAUufgP86ldfFZt9K/EVfrN0rL2b+bvp4/ZoGnP7JGS7bz69a/Qg8OSvKyzj/O4ZI9FX+DP8SFdEJU6MK/dlm3Z7mQuz+O10ESlKv3Pz/0tbqzRMg/c9rdAeeH9D+C60MNEf3Xv3zNQlICO8u/B6kVPRP557/CWNowHjmyPwov9qoNab0/yJ70n89kxT/maC2pXBfXvyH0UKhlPk6/qsarVwl02D/JpoadPZ/ov/huQ7lt+t2/LmYAM9R24D+mSO976k7rv3rJrrJz4O0/l2+p1uxwtj/Gq7GKafTEvwJdqlIylL8/qkNX0T0d4L/ksDMFOoyrv1tKV40JyPY/dV7T5VMw5z+654gvx3HjP8htbQNY5rU/y+v4Au4q4D//12egX5fgv2cRThWR3dC/FIN2EKic4780F8uNjUaXvydYetHfs66/I5EiCRI0yD+QyBXBDrnbP3EOvR7Rhdq/D/WEnP+cmr+SNeM7v+uyP+AXqfF8DOC/VfykVAI70z/xwS+GSOfLv7cJfMI30e8/0JAuELZI6b9J+jSFqmHuv8uVTX0ckPS/euVSRErOtT+f0B9KeY3lvw+mxSXdFL6/Uuib2Sp76L+WKXgolKTTv4qSVvyz9MW/WPBz093YV79k9/DMGQHbv1vFiD5XxdI/G+qJLbBYx793FusDeLvcv90fB1UhMMQ/u4IkLWXM3D8/foYHj22mv1lBwG3aOqe/Y4YoEXfPzb+7vz9mDmHMv+qskwasrqg/ous/M8xE4r+unatoMwTcvwQXOKroSu8/PGKdGs532b8ky1RV6erhPwZPg1R+NuU/dJQA1+JzyT94Nz82pXfPP4nUeCUXSt8/Q9zm9jRL1r8CtB+sioLyP8zOP9xZ2d0/VaK4kznj2D+N+7QxfInlvyCH5csVZae/\",\"dtype\":\"float64\",\"shape\":[93]},\"index\":[0,1,2,3,4,5,6,7,8,9,10,11,12,13,14,15,16,17,18,19,20,21,22,23,24,25,26,27,28,29,30,31,32,33,34,35,36,37,38,39,40,41,42,43,44,45,46,47,48,49,50,51,52,53,54,55,56,57,58,59,60,61,62,63,64,65,66,67,68,69,70,71,72,73,74,75,76,77,78,79,80,81,82,83,84,85,86,87,88,89,90,91,92],\"label\":[\"Small\",\"Midsize\",\"Compact\",\"Midsize\",\"Midsize\",\"Midsize\",\"Large\",\"Large\",\"Midsize\",\"Large\",\"Midsize\",\"Compact\",\"Compact\",\"Sporty\",\"Midsize\",\"Van\",\"Van\",\"Large\",\"Sporty\",\"Large\",\"Compact\",\"Large\",\"Small\",\"Small\",\"Compact\",\"Van\",\"Midsize\",\"Sporty\",\"Small\",\"Large\",\"Small\",\"Small\",\"Compact\",\"Sporty\",\"Sporty\",\"Van\",\"Midsize\",\"Large\",\"Small\",\"Sporty\",\"Sporty\",\"Small\",\"Compact\",\"Small\",\"Small\",\"Sporty\",\"Midsize\",\"Midsize\",\"Midsize\",\"Midsize\",\"Midsize\",\"Large\",\"Small\",\"Small\",\"Compact\",\"Van\",\"Sporty\",\"Compact\",\"Midsize\",\"Sporty\",\"Midsize\",\"Small\",\"Midsize\",\"Small\",\"Compact\",\"Van\",\"Midsize\",\"Compact\",\"Midsize\",\"Van\",\"Large\",\"Sporty\",\"Small\",\"Compact\",\"Sporty\",\"Midsize\",\"Large\",\"Compact\",\"Small\",\"Small\",\"Small\",\"Compact\",\"Small\",\"Small\",\"Sporty\",\"Midsize\",\"Van\",\"Small\",\"Van\",\"Compact\",\"Sporty\",\"Compact\",\"Midsize\"]}},\"id\":\"9f4ef8d3-67ad-4b5f-ace6-0da06df6a480\",\"type\":\"ColumnDataSource\"},{\"attributes\":{},\"id\":\"322ea459-f984-4990-919a-8fc77b4ad8f7\",\"type\":\"SaveTool\"},{\"attributes\":{\"fill_color\":{\"field\":\"label\",\"transform\":{\"id\":\"47dfac5f-6663-4b92-857c-eeb21669771a\",\"type\":\"CategoricalColorMapper\"}},\"line_color\":{\"field\":\"label\",\"transform\":{\"id\":\"47dfac5f-6663-4b92-857c-eeb21669771a\",\"type\":\"CategoricalColorMapper\"}},\"size\":{\"units\":\"screen\",\"value\":9},\"x\":{\"field\":\"PC1\"},\"y\":{\"field\":\"PC2\"}},\"id\":\"bac511e2-1815-44ad-b3cb-efeb7abbbadc\",\"type\":\"Circle\"},{\"attributes\":{},\"id\":\"e4087e6e-714f-456f-bc35-2ac9071e0303\",\"type\":\"BasicTicker\"},{\"attributes\":{\"source\":{\"id\":\"9f4ef8d3-67ad-4b5f-ace6-0da06df6a480\",\"type\":\"ColumnDataSource\"}},\"id\":\"731d9c55-3b1d-47c9-af28-8018c11529bd\",\"type\":\"CDSView\"},{\"attributes\":{\"below\":[{\"id\":\"9ff1ddd8-e743-48e8-b11e-cce364c8c1bd\",\"type\":\"LinearAxis\"}],\"left\":[{\"id\":\"5bbb9279-c01a-4f6c-913a-1a58c3a484de\",\"type\":\"LinearAxis\"}],\"renderers\":[{\"id\":\"9ff1ddd8-e743-48e8-b11e-cce364c8c1bd\",\"type\":\"LinearAxis\"},{\"id\":\"eaa15d34-13a3-410c-a06a-7e273340f5fd\",\"type\":\"Grid\"},{\"id\":\"5bbb9279-c01a-4f6c-913a-1a58c3a484de\",\"type\":\"LinearAxis\"},{\"id\":\"43a1756e-b82c-4ac8-9ad5-d6a29cbeec1e\",\"type\":\"Grid\"},{\"id\":\"bcd783df-c05a-4dd5-b87a-237b49541487\",\"type\":\"BoxAnnotation\"},{\"id\":\"8dceb0f8-ce06-4e98-8a68-713fb73fa2d9\",\"type\":\"Legend\"},{\"id\":\"2afb0a07-03b5-4a07-be69-b8ade0801bdd\",\"type\":\"GlyphRenderer\"}],\"title\":{\"id\":\"82416eed-d2d7-47d9-ad00-ed68865fc039\",\"type\":\"Title\"},\"toolbar\":{\"id\":\"1d2bdc2d-277c-48f4-9175-6b5206372f72\",\"type\":\"Toolbar\"},\"x_range\":{\"id\":\"b73e335d-fb4d-47e4-bcda-7ea6b72b7993\",\"type\":\"DataRange1d\"},\"x_scale\":{\"id\":\"8d1b0edf-6c38-464a-b545-3ece8da314bb\",\"type\":\"LinearScale\"},\"y_range\":{\"id\":\"8abadf1b-78c4-40ee-8413-86f16b6f9f6c\",\"type\":\"Range1d\"},\"y_scale\":{\"id\":\"de797490-dc80-48cc-b4c4-00a734e9f5bf\",\"type\":\"LinearScale\"}},\"id\":\"a629f3ee-6373-444d-8287-a9c56474fb53\",\"subtype\":\"Figure\",\"type\":\"Plot\"},{\"attributes\":{\"plot\":{\"id\":\"a629f3ee-6373-444d-8287-a9c56474fb53\",\"subtype\":\"Figure\",\"type\":\"Plot\"},\"ticker\":{\"id\":\"e4087e6e-714f-456f-bc35-2ac9071e0303\",\"type\":\"BasicTicker\"}},\"id\":\"eaa15d34-13a3-410c-a06a-7e273340f5fd\",\"type\":\"Grid\"},{\"attributes\":{},\"id\":\"b8a66a92-8519-4d4f-ab1d-04331e40960c\",\"type\":\"HelpTool\"},{\"attributes\":{\"active_drag\":\"auto\",\"active_inspect\":\"auto\",\"active_scroll\":\"auto\",\"active_tap\":\"auto\",\"tools\":[{\"id\":\"0b47c17a-1c65-47cb-bccf-291031e938fe\",\"type\":\"PanTool\"},{\"id\":\"2faaa99f-d064-4a52-bba5-3d6556053d1d\",\"type\":\"WheelZoomTool\"},{\"id\":\"61ed2c44-8be3-4894-bf09-70d6eef2fc8d\",\"type\":\"BoxZoomTool\"},{\"id\":\"322ea459-f984-4990-919a-8fc77b4ad8f7\",\"type\":\"SaveTool\"},{\"id\":\"490eb053-740d-4ceb-b36d-5953e9ddbec9\",\"type\":\"ResetTool\"},{\"id\":\"b8a66a92-8519-4d4f-ab1d-04331e40960c\",\"type\":\"HelpTool\"}]},\"id\":\"1d2bdc2d-277c-48f4-9175-6b5206372f72\",\"type\":\"Toolbar\"},{\"attributes\":{\"overlay\":{\"id\":\"bcd783df-c05a-4dd5-b87a-237b49541487\",\"type\":\"BoxAnnotation\"}},\"id\":\"61ed2c44-8be3-4894-bf09-70d6eef2fc8d\",\"type\":\"BoxZoomTool\"},{\"attributes\":{},\"id\":\"5f7f18b0-da2f-42d6-a0bb-c6d1b14c8085\",\"type\":\"BasicTickFormatter\"},{\"attributes\":{\"data_source\":{\"id\":\"9f4ef8d3-67ad-4b5f-ace6-0da06df6a480\",\"type\":\"ColumnDataSource\"},\"glyph\":{\"id\":\"bac511e2-1815-44ad-b3cb-efeb7abbbadc\",\"type\":\"Circle\"},\"hover_glyph\":null,\"muted_glyph\":null,\"nonselection_glyph\":{\"id\":\"b3cacdca-1d59-4bcc-ab99-308b262c7c85\",\"type\":\"Circle\"},\"selection_glyph\":null,\"view\":{\"id\":\"731d9c55-3b1d-47c9-af28-8018c11529bd\",\"type\":\"CDSView\"}},\"id\":\"2afb0a07-03b5-4a07-be69-b8ade0801bdd\",\"type\":\"GlyphRenderer\"},{\"attributes\":{},\"id\":\"490eb053-740d-4ceb-b36d-5953e9ddbec9\",\"type\":\"ResetTool\"},{\"attributes\":{\"label\":{\"field\":\"label\"},\"renderers\":[{\"id\":\"2afb0a07-03b5-4a07-be69-b8ade0801bdd\",\"type\":\"GlyphRenderer\"}]},\"id\":\"b78f7531-57d9-4744-8065-cafcb5ba72b5\",\"type\":\"LegendItem\"},{\"attributes\":{\"plot\":null,\"text\":\"\"},\"id\":\"82416eed-d2d7-47d9-ad00-ed68865fc039\",\"type\":\"Title\"},{\"attributes\":{},\"id\":\"0b47c17a-1c65-47cb-bccf-291031e938fe\",\"type\":\"PanTool\"},{\"attributes\":{},\"id\":\"8d1b0edf-6c38-464a-b545-3ece8da314bb\",\"type\":\"LinearScale\"},{\"attributes\":{},\"id\":\"fe642908-73fb-4a18-abe5-0c9458382e12\",\"type\":\"BasicTickFormatter\"},{\"attributes\":{\"callback\":null,\"end\":4.8,\"start\":-4.5},\"id\":\"8abadf1b-78c4-40ee-8413-86f16b6f9f6c\",\"type\":\"Range1d\"},{\"attributes\":{\"items\":[{\"id\":\"b78f7531-57d9-4744-8065-cafcb5ba72b5\",\"type\":\"LegendItem\"}],\"plot\":{\"id\":\"a629f3ee-6373-444d-8287-a9c56474fb53\",\"subtype\":\"Figure\",\"type\":\"Plot\"}},\"id\":\"8dceb0f8-ce06-4e98-8a68-713fb73fa2d9\",\"type\":\"Legend\"},{\"attributes\":{\"factors\":[\"Compact\",\"Large\",\"Midsize\",\"Small\",\"Sporty\",\"Van\"],\"palette\":[\"#1f77b4\",\"#ff7f0e\",\"#2ca02c\",\"#d62728\",\"#9467bd\",\"#8c564b\",\"#e377c2\",\"#7f7f7f\",\"#bcbd22\",\"#17becf\"]},\"id\":\"47dfac5f-6663-4b92-857c-eeb21669771a\",\"type\":\"CategoricalColorMapper\"},{\"attributes\":{},\"id\":\"de797490-dc80-48cc-b4c4-00a734e9f5bf\",\"type\":\"LinearScale\"},{\"attributes\":{\"axis_label\":\"PC2\",\"formatter\":{\"id\":\"5f7f18b0-da2f-42d6-a0bb-c6d1b14c8085\",\"type\":\"BasicTickFormatter\"},\"plot\":{\"id\":\"a629f3ee-6373-444d-8287-a9c56474fb53\",\"subtype\":\"Figure\",\"type\":\"Plot\"},\"ticker\":{\"id\":\"363907e6-625c-4803-bb9d-c6dc820e95d5\",\"type\":\"BasicTicker\"}},\"id\":\"5bbb9279-c01a-4f6c-913a-1a58c3a484de\",\"type\":\"LinearAxis\"},{\"attributes\":{},\"id\":\"2faaa99f-d064-4a52-bba5-3d6556053d1d\",\"type\":\"WheelZoomTool\"}],\"root_ids\":[\"a629f3ee-6373-444d-8287-a9c56474fb53\"]},\"title\":\"Bokeh Application\",\"version\":\"0.12.11\"}};\n",
       "    var render_items = [{\"docid\":\"c5f14b8e-3a14-45b8-b060-4f77532eeb82\",\"elementid\":\"dd9791bd-2b01-4815-b110-75c4b62c8cd8\",\"modelid\":\"a629f3ee-6373-444d-8287-a9c56474fb53\"}];\n",
       "    root.Bokeh.embed.embed_items(docs_json, render_items);\n",
       "  }\n",
       "  if (root.Bokeh !== undefined) {\n",
       "    embed_document(root);\n",
       "  } else {\n",
       "    var attempts = 0;\n",
       "    var timer = setInterval(function(root) {\n",
       "      if (root.Bokeh !== undefined) {\n",
       "        embed_document(root);\n",
       "        clearInterval(timer);\n",
       "      }\n",
       "      attempts++;\n",
       "      if (attempts > 100) {\n",
       "        console.log(\"Bokeh: ERROR: Unable to embed document because BokehJS library is missing\")\n",
       "        clearInterval(timer);\n",
       "      }\n",
       "    }, 10, root)\n",
       "  }\n",
       "})(window);"
      ],
      "application/vnd.bokehjs_exec.v0+json": ""
     },
     "metadata": {
      "application/vnd.bokehjs_exec.v0+json": {
       "id": "a629f3ee-6373-444d-8287-a9c56474fb53"
      }
     },
     "output_type": "display_data"
    }
   ],
   "source": [
    "source = ColumnDataSource(pca_auto)\n",
    "\n",
    "p = figure( plot_width=600, plot_height=600, y_range=(-4.5,4.8) )\n",
    "\n",
    "p.circle( source=source, x='PC1', y='PC2', size=9, legend='label',\n",
    "          color=factor_cmap('label', palette=Category10[10], factors=factors))\n",
    "p.xaxis.axis_label = 'PC1' \n",
    "p.yaxis.axis_label = 'PC2' \n",
    "\n",
    "show(p)"
   ]
  },
  {
   "cell_type": "markdown",
   "metadata": {},
   "source": [
    "You should get the following chart:\n",
    "![](img1.png)"
   ]
  },
  {
   "cell_type": "markdown",
   "metadata": {},
   "source": [
    "- Explain the PC1 and PC2 axis. What is typical for cars on the left vs. right (x-axis)? What is typical for cars located towards the top vs. bottom of the chart (y-axis)?"
   ]
  },
  {
   "cell_type": "markdown",
   "metadata": {},
   "source": [
    "- Use one of the groupings you discussed in Task 1a) and color the plot accordingly. What can you tell about the groups? Feal free to comment on additional findings here."
   ]
  },
  {
   "cell_type": "markdown",
   "metadata": {},
   "source": [
    "# **Exercise 2**: Analyzing tumor data"
   ]
  },
  {
   "cell_type": "markdown",
   "metadata": {},
   "source": [
    "The following code reads the tumor data and does some preprocessing. You have access to the following variables:\n",
    "\n",
    "- **df** contains the tabular data with genes and labels. Labels are stored in the last column\n",
    "- **labels** the last column as a seperate array\n",
    "- **df_std** a standardized version of the data\n",
    "- **ngenes** the number of genes\n",
    "- **cancer_types** list of cancers contained in the data"
   ]
  },
  {
   "cell_type": "code",
   "execution_count": 36,
   "metadata": {
    "scrolled": false
   },
   "outputs": [],
   "source": [
    "# read the gene expression data, transpose it, and name the columns\n",
    "df = pd.read_csv('nci.csv', header=None, sep='\\s+')\n",
    "df = df.T\n",
    "df.columns = ['G%i' % i for i in range(len(df.columns))]\n",
    "\n",
    "ngenes = len(df.columns)\n",
    "\n",
    "# read the labels and add them to the dataframe\n",
    "labels = pd.read_csv( 'nci-labels.csv' )\n",
    "df['cancer'] = labels\n",
    "\n",
    "# remove synthetic tumors\n",
    "df = df[df['cancer'].isin(['CNS', 'RENAL', 'BREAST', 'NSCLC', 'UNKNOWN', 'OVARIAN', 'MELANOMA',\n",
    "       'PROSTATE', 'LEUKEMIA', 'COLON' ])]\n",
    "df = df.reset_index()\n",
    "labels = df.cancer\n",
    "\n",
    "# get a standardized version of the data\n",
    "df_std = StandardScaler().fit_transform(df.iloc[:,1:-1])\n",
    "\n",
    "# get the occuring cancer types\n",
    "cancer_types = sorted(labels.unique())"
   ]
  },
  {
   "cell_type": "markdown",
   "metadata": {},
   "source": [
    "** Helper routines **"
   ]
  },
  {
   "cell_type": "code",
   "execution_count": 37,
   "metadata": {},
   "outputs": [],
   "source": [
    "def getLegend( df ):\n",
    "    df = df.sort_values(by=['cancer'])\n",
    "    source = ColumnDataSource(df)\n",
    "\n",
    "    l = figure( plot_width=200, plot_height=300, y_range=(100,101) )\n",
    "    l.circle( source=source, x='G0', y='G1', size=7, legend='cancer', \n",
    "              color=factor_cmap('cancer', palette=Category10[10], factors=cancer_types))\n",
    "    l.xaxis.visible = False\n",
    "    l.yaxis.visible = False\n",
    "    l.xgrid.visible = False\n",
    "    l.ygrid.visible = False\n",
    "    l.legend.location = \"top_left\"\n",
    "    l.legend.border_line_color = None\n",
    "    \n",
    "    return l"
   ]
  },
  {
   "cell_type": "code",
   "execution_count": 38,
   "metadata": {},
   "outputs": [
    {
     "data": {
      "text/plain": [
       "RENAL       9\n",
       "NSCLC       9\n",
       "MELANOMA    8\n",
       "COLON       7\n",
       "BREAST      7\n",
       "LEUKEMIA    6\n",
       "OVARIAN     6\n",
       "CNS         5\n",
       "PROSTATE    2\n",
       "UNKNOWN     1\n",
       "Name: cancer, dtype: int64"
      ]
     },
     "execution_count": 38,
     "metadata": {},
     "output_type": "execute_result"
    }
   ],
   "source": [
    "df.cancer.value_counts()"
   ]
  },
  {
   "cell_type": "markdown",
   "metadata": {},
   "source": [
    "<font color='deeppink'>**Task 2a)**</font> Make a feasibility check.\n",
    "\n",
    "- Show 6 scatterplots of your data using random genes for the axes. "
   ]
  },
  {
   "cell_type": "code",
   "execution_count": 39,
   "metadata": {},
   "outputs": [
    {
     "ename": "NameError",
     "evalue": "name 'cancer_type' is not defined",
     "output_type": "error",
     "traceback": [
      "\u001b[0;31m---------------------------------------------------------------------------\u001b[0m",
      "\u001b[0;31mNameError\u001b[0m                                 Traceback (most recent call last)",
      "\u001b[0;32m<ipython-input-39-5877d03acff6>\u001b[0m in \u001b[0;36m<module>\u001b[0;34m()\u001b[0m\n\u001b[1;32m      6\u001b[0m \u001b[0mvar2\u001b[0m \u001b[0;34m=\u001b[0m \u001b[0;34m'G'\u001b[0m\u001b[0;34m+\u001b[0m\u001b[0mstr\u001b[0m\u001b[0;34m(\u001b[0m\u001b[0mids\u001b[0m\u001b[0;34m[\u001b[0m\u001b[0;36m1\u001b[0m\u001b[0;34m]\u001b[0m\u001b[0;34m)\u001b[0m\u001b[0;34m\u001b[0m\u001b[0m\n\u001b[1;32m      7\u001b[0m p.circle( source=df, x=var1, y=var2, size=7,\n\u001b[0;32m----> 8\u001b[0;31m           color=factor_cmap('cancer', palette=Category10[10], factors=cancer_type))\n\u001b[0m\u001b[1;32m      9\u001b[0m \u001b[0mp\u001b[0m\u001b[0;34m.\u001b[0m\u001b[0mxaxis\u001b[0m\u001b[0;34m.\u001b[0m\u001b[0maxis_label\u001b[0m \u001b[0;34m=\u001b[0m \u001b[0mvar1\u001b[0m\u001b[0;34m\u001b[0m\u001b[0m\n\u001b[1;32m     10\u001b[0m \u001b[0mp\u001b[0m\u001b[0;34m.\u001b[0m\u001b[0myaxis\u001b[0m\u001b[0;34m.\u001b[0m\u001b[0maxis_label\u001b[0m \u001b[0;34m=\u001b[0m \u001b[0mvar2\u001b[0m\u001b[0;34m\u001b[0m\u001b[0m\n",
      "\u001b[0;31mNameError\u001b[0m: name 'cancer_type' is not defined"
     ]
    }
   ],
   "source": [
    "row = [] \n",
    "\n",
    "p = figure( plot_width=300, plot_height=300 )\n",
    "ids = np.random.choice( len(df.columns)-1, 2 )\n",
    "var1 = 'G'+str(ids[0])\n",
    "var2 = 'G'+str(ids[1])\n",
    "p.circle( source=df, x=var1, y=var2, size=7,\n",
    "          color=factor_cmap('cancer', palette=Category10[10], factors=cancer_type))\n",
    "p.xaxis.axis_label = var1\n",
    "p.yaxis.axis_label = var2\n",
    "row.append(p)\n",
    "\n",
    "row.append(getLegend(df))\n",
    "    \n",
    "show( gridplot([row]))\n"
   ]
  },
  {
   "cell_type": "markdown",
   "metadata": {},
   "source": [
    "Should give:\n",
    "![](img3.png)"
   ]
  },
  {
   "cell_type": "markdown",
   "metadata": {},
   "source": [
    "- Looking at the charts you created above, can you find clusters for the different cancer types?"
   ]
  },
  {
   "cell_type": "markdown",
   "metadata": {},
   "source": [
    "- Explain the following chart (also understand the code to compute it).\n",
    "\n",
    " Hint: The method `np.linalg.norm( x-y)` computes the Euklidean distance between two vectors `x` and `y`."
   ]
  },
  {
   "cell_type": "code",
   "execution_count": 40,
   "metadata": {},
   "outputs": [
    {
     "data": {
      "text/html": [
       "\n",
       "<div class=\"bk-root\">\n",
       "    <div class=\"bk-plotdiv\" id=\"08dba82d-20e6-4de8-97a2-0be5d3cbc528\"></div>\n",
       "</div>"
      ]
     },
     "metadata": {},
     "output_type": "display_data"
    },
    {
     "data": {
      "application/javascript": [
       "(function(root) {\n",
       "  function embed_document(root) {\n",
       "    var docs_json = {\"c084db9d-eee9-4ff4-89d5-83aff6ab087d\":{\"roots\":{\"references\":[{\"attributes\":{\"callback\":null},\"id\":\"58961d75-e12c-4a76-9034-c52e18236a61\",\"type\":\"DataRange1d\"},{\"attributes\":{\"fill_color\":{\"value\":\"steelblue\"},\"height\":{\"value\":0.9},\"left\":{\"expr\":{\"id\":\"6c32aa31-9ddd-4f09-8907-189bb6b0dcd8\",\"type\":\"Stack\"}},\"line_color\":{\"value\":\"steelblue\"},\"right\":{\"expr\":{\"id\":\"50175d51-ba5c-491a-83a9-c1f2a27b9cb2\",\"type\":\"Stack\"}},\"y\":{\"field\":\"index\"}},\"id\":\"933d7b32-8a7b-491d-8a98-2f7bdbb19b99\",\"type\":\"HBar\"},{\"attributes\":{\"callback\":null,\"column_names\":[\"index\",\"other\",\"same\"],\"data\":{\"index\":[\"BREAST\",\"CNS\",\"COLON\",\"LEUKEMIA\",\"MELANOMA\",\"NSCLC\",\"OVARIAN\",\"PROSTATE\",\"RENAL\",\"UNKNOWN\"],\"other\":[4,2,0,2,1,5,4,2,2,1],\"same\":[3,3,7,4,7,4,2,0,7,0]}},\"id\":\"2ded61a6-2f5e-42fc-bba0-142a2f494e57\",\"type\":\"ColumnDataSource\"},{\"attributes\":{},\"id\":\"057107aa-2190-4baa-800c-a0fe06e125e8\",\"type\":\"BasicTickFormatter\"},{\"attributes\":{\"items\":[{\"id\":\"8a060f5a-058a-47da-b4be-a9ed8199a2dd\",\"type\":\"LegendItem\"},{\"id\":\"0a239db2-a8ea-42d8-8be1-853601488d47\",\"type\":\"LegendItem\"}],\"location\":\"bottom_right\",\"plot\":{\"id\":\"93989b5d-fc4f-4164-bfbb-aeeeaea19ed2\",\"subtype\":\"Figure\",\"type\":\"Plot\"}},\"id\":\"fadc8428-a6ce-4cc7-bbc2-24e5cf474236\",\"type\":\"Legend\"},{\"attributes\":{},\"id\":\"6921e05e-556d-49c3-881f-25bde8440630\",\"type\":\"LinearScale\"},{\"attributes\":{\"source\":{\"id\":\"2ded61a6-2f5e-42fc-bba0-142a2f494e57\",\"type\":\"ColumnDataSource\"}},\"id\":\"641d1b6f-7755-4226-9594-9f7a6321e5c2\",\"type\":\"CDSView\"},{\"attributes\":{\"data_source\":{\"id\":\"867445ea-9c53-4654-a9e2-521c09875074\",\"type\":\"ColumnDataSource\"},\"glyph\":{\"id\":\"dc40d547-4b22-4747-8abd-b9f8d3e071ec\",\"type\":\"HBar\"},\"hover_glyph\":null,\"muted_glyph\":null,\"nonselection_glyph\":{\"id\":\"56ad473b-f14c-4f30-9f06-3cda25fe858c\",\"type\":\"HBar\"},\"selection_glyph\":null,\"view\":{\"id\":\"52838b22-44c0-4c85-abba-bcb38cb3d300\",\"type\":\"CDSView\"}},\"id\":\"37eab999-5672-42b8-a77e-1abff819faa9\",\"type\":\"GlyphRenderer\"},{\"attributes\":{\"fill_alpha\":{\"value\":0.1},\"fill_color\":{\"value\":\"#1f77b4\"},\"height\":{\"value\":0.9},\"left\":{\"expr\":{\"id\":\"b1965b80-986a-4b06-b372-ca3709bf0e1c\",\"type\":\"Stack\"}},\"line_alpha\":{\"value\":0.1},\"line_color\":{\"value\":\"#1f77b4\"},\"right\":{\"expr\":{\"id\":\"f1f41189-1f8c-4ce9-8976-7b74084778c7\",\"type\":\"Stack\"}},\"y\":{\"field\":\"index\"}},\"id\":\"56ad473b-f14c-4f30-9f06-3cda25fe858c\",\"type\":\"HBar\"},{\"attributes\":{\"formatter\":{\"id\":\"427a3968-bbea-4716-9b91-31d49377103c\",\"type\":\"CategoricalTickFormatter\"},\"plot\":{\"id\":\"93989b5d-fc4f-4164-bfbb-aeeeaea19ed2\",\"subtype\":\"Figure\",\"type\":\"Plot\"},\"ticker\":{\"id\":\"bffa8727-11ef-41e7-af1a-993b005a4578\",\"type\":\"CategoricalTicker\"}},\"id\":\"7f5cea08-8240-45e7-ab04-d7205ea63a6d\",\"type\":\"CategoricalAxis\"},{\"attributes\":{},\"id\":\"bc6c2165-0883-4d95-b40b-975a63b76884\",\"type\":\"SaveTool\"},{\"attributes\":{\"active_drag\":\"auto\",\"active_inspect\":\"auto\",\"active_scroll\":\"auto\",\"active_tap\":\"auto\",\"tools\":[{\"id\":\"d97995f7-998c-4b0d-98f4-11881c0bb4b3\",\"type\":\"PanTool\"},{\"id\":\"87cb576f-3c67-476d-85b2-1bf1733cf44a\",\"type\":\"WheelZoomTool\"},{\"id\":\"c7f053e7-3275-48a7-8fdc-5a0939ecab1f\",\"type\":\"BoxZoomTool\"},{\"id\":\"bc6c2165-0883-4d95-b40b-975a63b76884\",\"type\":\"SaveTool\"},{\"id\":\"28cd8e23-4c8f-4beb-a61a-18b59ee6523f\",\"type\":\"ResetTool\"},{\"id\":\"9e83f0d3-3372-49d8-8c48-ed568d9a37af\",\"type\":\"HelpTool\"}]},\"id\":\"082ca101-5c60-429c-a2af-549a6a502747\",\"type\":\"Toolbar\"},{\"attributes\":{},\"id\":\"87cb576f-3c67-476d-85b2-1bf1733cf44a\",\"type\":\"WheelZoomTool\"},{\"attributes\":{\"bottom_units\":\"screen\",\"fill_alpha\":{\"value\":0.5},\"fill_color\":{\"value\":\"lightgrey\"},\"left_units\":\"screen\",\"level\":\"overlay\",\"line_alpha\":{\"value\":1.0},\"line_color\":{\"value\":\"black\"},\"line_dash\":[4,4],\"line_width\":{\"value\":2},\"plot\":null,\"render_mode\":\"css\",\"right_units\":\"screen\",\"top_units\":\"screen\"},\"id\":\"138ffbbb-647a-4425-9093-69f64dbd1c0e\",\"type\":\"BoxAnnotation\"},{\"attributes\":{\"fields\":[\"same\"]},\"id\":\"b1965b80-986a-4b06-b372-ca3709bf0e1c\",\"type\":\"Stack\"},{\"attributes\":{},\"id\":\"869f662e-be6d-43f8-8f18-c54c7bbc6ca1\",\"type\":\"CategoricalScale\"},{\"attributes\":{\"fill_alpha\":{\"value\":0.1},\"fill_color\":{\"value\":\"#1f77b4\"},\"height\":{\"value\":0.9},\"left\":{\"expr\":{\"id\":\"6c32aa31-9ddd-4f09-8907-189bb6b0dcd8\",\"type\":\"Stack\"}},\"line_alpha\":{\"value\":0.1},\"line_color\":{\"value\":\"#1f77b4\"},\"right\":{\"expr\":{\"id\":\"50175d51-ba5c-491a-83a9-c1f2a27b9cb2\",\"type\":\"Stack\"}},\"y\":{\"field\":\"index\"}},\"id\":\"35f896e0-65b1-4861-8f86-51e64ca15a8b\",\"type\":\"HBar\"},{\"attributes\":{\"data_source\":{\"id\":\"2ded61a6-2f5e-42fc-bba0-142a2f494e57\",\"type\":\"ColumnDataSource\"},\"glyph\":{\"id\":\"933d7b32-8a7b-491d-8a98-2f7bdbb19b99\",\"type\":\"HBar\"},\"hover_glyph\":null,\"muted_glyph\":null,\"nonselection_glyph\":{\"id\":\"35f896e0-65b1-4861-8f86-51e64ca15a8b\",\"type\":\"HBar\"},\"selection_glyph\":null,\"view\":{\"id\":\"641d1b6f-7755-4226-9594-9f7a6321e5c2\",\"type\":\"CDSView\"}},\"id\":\"4f79644e-8a08-4397-bb35-bdecc776df26\",\"type\":\"GlyphRenderer\"},{\"attributes\":{\"plot\":null,\"text\":\"\"},\"id\":\"68fb95bb-2f89-4ed1-8d6e-5997171db4fa\",\"type\":\"Title\"},{\"attributes\":{\"fields\":[]},\"id\":\"6c32aa31-9ddd-4f09-8907-189bb6b0dcd8\",\"type\":\"Stack\"},{\"attributes\":{\"formatter\":{\"id\":\"057107aa-2190-4baa-800c-a0fe06e125e8\",\"type\":\"BasicTickFormatter\"},\"plot\":{\"id\":\"93989b5d-fc4f-4164-bfbb-aeeeaea19ed2\",\"subtype\":\"Figure\",\"type\":\"Plot\"},\"ticker\":{\"id\":\"0bc03236-6fcf-4670-8343-183744937379\",\"type\":\"BasicTicker\"}},\"id\":\"c2c3ce7e-ec2d-42d8-baf2-287eff4dbb74\",\"type\":\"LinearAxis\"},{\"attributes\":{\"dimension\":1,\"plot\":{\"id\":\"93989b5d-fc4f-4164-bfbb-aeeeaea19ed2\",\"subtype\":\"Figure\",\"type\":\"Plot\"},\"ticker\":{\"id\":\"bffa8727-11ef-41e7-af1a-993b005a4578\",\"type\":\"CategoricalTicker\"}},\"id\":\"59e4fb3f-12d2-4cc1-9a21-b8aa1af5aae6\",\"type\":\"Grid\"},{\"attributes\":{\"callback\":null,\"factors\":[\"BREAST\",\"CNS\",\"COLON\",\"LEUKEMIA\",\"MELANOMA\",\"NSCLC\",\"OVARIAN\",\"PROSTATE\",\"RENAL\",\"UNKNOWN\"]},\"id\":\"6798297e-babc-46d9-a6ee-060a35ce9a5e\",\"type\":\"FactorRange\"},{\"attributes\":{},\"id\":\"d97995f7-998c-4b0d-98f4-11881c0bb4b3\",\"type\":\"PanTool\"},{\"attributes\":{},\"id\":\"28cd8e23-4c8f-4beb-a61a-18b59ee6523f\",\"type\":\"ResetTool\"},{\"attributes\":{\"source\":{\"id\":\"867445ea-9c53-4654-a9e2-521c09875074\",\"type\":\"ColumnDataSource\"}},\"id\":\"52838b22-44c0-4c85-abba-bcb38cb3d300\",\"type\":\"CDSView\"},{\"attributes\":{\"fields\":[\"same\"]},\"id\":\"50175d51-ba5c-491a-83a9-c1f2a27b9cb2\",\"type\":\"Stack\"},{\"attributes\":{},\"id\":\"427a3968-bbea-4716-9b91-31d49377103c\",\"type\":\"CategoricalTickFormatter\"},{\"attributes\":{},\"id\":\"9e83f0d3-3372-49d8-8c48-ed568d9a37af\",\"type\":\"HelpTool\"},{\"attributes\":{\"fields\":[\"same\",\"other\"]},\"id\":\"f1f41189-1f8c-4ce9-8976-7b74084778c7\",\"type\":\"Stack\"},{\"attributes\":{\"fill_color\":{\"value\":\"orange\"},\"height\":{\"value\":0.9},\"left\":{\"expr\":{\"id\":\"b1965b80-986a-4b06-b372-ca3709bf0e1c\",\"type\":\"Stack\"}},\"line_color\":{\"value\":\"orange\"},\"right\":{\"expr\":{\"id\":\"f1f41189-1f8c-4ce9-8976-7b74084778c7\",\"type\":\"Stack\"}},\"y\":{\"field\":\"index\"}},\"id\":\"dc40d547-4b22-4747-8abd-b9f8d3e071ec\",\"type\":\"HBar\"},{\"attributes\":{\"label\":{\"value\":\"other\"},\"renderers\":[{\"id\":\"37eab999-5672-42b8-a77e-1abff819faa9\",\"type\":\"GlyphRenderer\"}]},\"id\":\"0a239db2-a8ea-42d8-8be1-853601488d47\",\"type\":\"LegendItem\"},{\"attributes\":{\"plot\":{\"id\":\"93989b5d-fc4f-4164-bfbb-aeeeaea19ed2\",\"subtype\":\"Figure\",\"type\":\"Plot\"},\"ticker\":{\"id\":\"0bc03236-6fcf-4670-8343-183744937379\",\"type\":\"BasicTicker\"}},\"id\":\"8164e557-4295-47a2-8d51-2df8de9e21e0\",\"type\":\"Grid\"},{\"attributes\":{},\"id\":\"0bc03236-6fcf-4670-8343-183744937379\",\"type\":\"BasicTicker\"},{\"attributes\":{},\"id\":\"bffa8727-11ef-41e7-af1a-993b005a4578\",\"type\":\"CategoricalTicker\"},{\"attributes\":{\"callback\":null,\"column_names\":[\"index\",\"other\",\"same\"],\"data\":{\"index\":[\"BREAST\",\"CNS\",\"COLON\",\"LEUKEMIA\",\"MELANOMA\",\"NSCLC\",\"OVARIAN\",\"PROSTATE\",\"RENAL\",\"UNKNOWN\"],\"other\":[4,2,0,2,1,5,4,2,2,1],\"same\":[3,3,7,4,7,4,2,0,7,0]}},\"id\":\"867445ea-9c53-4654-a9e2-521c09875074\",\"type\":\"ColumnDataSource\"},{\"attributes\":{\"below\":[{\"id\":\"c2c3ce7e-ec2d-42d8-baf2-287eff4dbb74\",\"type\":\"LinearAxis\"}],\"left\":[{\"id\":\"7f5cea08-8240-45e7-ab04-d7205ea63a6d\",\"type\":\"CategoricalAxis\"}],\"plot_height\":350,\"renderers\":[{\"id\":\"c2c3ce7e-ec2d-42d8-baf2-287eff4dbb74\",\"type\":\"LinearAxis\"},{\"id\":\"8164e557-4295-47a2-8d51-2df8de9e21e0\",\"type\":\"Grid\"},{\"id\":\"7f5cea08-8240-45e7-ab04-d7205ea63a6d\",\"type\":\"CategoricalAxis\"},{\"id\":\"59e4fb3f-12d2-4cc1-9a21-b8aa1af5aae6\",\"type\":\"Grid\"},{\"id\":\"138ffbbb-647a-4425-9093-69f64dbd1c0e\",\"type\":\"BoxAnnotation\"},{\"id\":\"fadc8428-a6ce-4cc7-bbc2-24e5cf474236\",\"type\":\"Legend\"},{\"id\":\"4f79644e-8a08-4397-bb35-bdecc776df26\",\"type\":\"GlyphRenderer\"},{\"id\":\"37eab999-5672-42b8-a77e-1abff819faa9\",\"type\":\"GlyphRenderer\"}],\"title\":{\"id\":\"68fb95bb-2f89-4ed1-8d6e-5997171db4fa\",\"type\":\"Title\"},\"toolbar\":{\"id\":\"082ca101-5c60-429c-a2af-549a6a502747\",\"type\":\"Toolbar\"},\"x_range\":{\"id\":\"58961d75-e12c-4a76-9034-c52e18236a61\",\"type\":\"DataRange1d\"},\"x_scale\":{\"id\":\"6921e05e-556d-49c3-881f-25bde8440630\",\"type\":\"LinearScale\"},\"y_range\":{\"id\":\"6798297e-babc-46d9-a6ee-060a35ce9a5e\",\"type\":\"FactorRange\"},\"y_scale\":{\"id\":\"869f662e-be6d-43f8-8f18-c54c7bbc6ca1\",\"type\":\"CategoricalScale\"}},\"id\":\"93989b5d-fc4f-4164-bfbb-aeeeaea19ed2\",\"subtype\":\"Figure\",\"type\":\"Plot\"},{\"attributes\":{\"overlay\":{\"id\":\"138ffbbb-647a-4425-9093-69f64dbd1c0e\",\"type\":\"BoxAnnotation\"}},\"id\":\"c7f053e7-3275-48a7-8fdc-5a0939ecab1f\",\"type\":\"BoxZoomTool\"},{\"attributes\":{\"label\":{\"value\":\"same\"},\"renderers\":[{\"id\":\"4f79644e-8a08-4397-bb35-bdecc776df26\",\"type\":\"GlyphRenderer\"}]},\"id\":\"8a060f5a-058a-47da-b4be-a9ed8199a2dd\",\"type\":\"LegendItem\"}],\"root_ids\":[\"93989b5d-fc4f-4164-bfbb-aeeeaea19ed2\"]},\"title\":\"Bokeh Application\",\"version\":\"0.12.11\"}};\n",
       "    var render_items = [{\"docid\":\"c084db9d-eee9-4ff4-89d5-83aff6ab087d\",\"elementid\":\"08dba82d-20e6-4de8-97a2-0be5d3cbc528\",\"modelid\":\"93989b5d-fc4f-4164-bfbb-aeeeaea19ed2\"}];\n",
       "    root.Bokeh.embed.embed_items(docs_json, render_items);\n",
       "  }\n",
       "  if (root.Bokeh !== undefined) {\n",
       "    embed_document(root);\n",
       "  } else {\n",
       "    var attempts = 0;\n",
       "    var timer = setInterval(function(root) {\n",
       "      if (root.Bokeh !== undefined) {\n",
       "        embed_document(root);\n",
       "        clearInterval(timer);\n",
       "      }\n",
       "      attempts++;\n",
       "      if (attempts > 100) {\n",
       "        console.log(\"Bokeh: ERROR: Unable to embed document because BokehJS library is missing\")\n",
       "        clearInterval(timer);\n",
       "      }\n",
       "    }, 10, root)\n",
       "  }\n",
       "})(window);"
      ],
      "application/vnd.bokehjs_exec.v0+json": ""
     },
     "metadata": {
      "application/vnd.bokehjs_exec.v0+json": {
       "id": "93989b5d-fc4f-4164-bfbb-aeeeaea19ed2"
      }
     },
     "output_type": "display_data"
    }
   ],
   "source": [
    "cnt = pd.DataFrame( index=cancer_types, columns=['same', 'other']).fillna(0)\n",
    "\n",
    "for i in df_std:\n",
    "    dfc = pd.DataFrame( {'d': [np.linalg.norm(i-j) for j in df_std], 'l': labels} ).sort_values(by='d')\n",
    "    if dfc.iloc[0,1] is dfc.iloc[1,1]: \n",
    "        cnt.loc[dfc.iloc[0,1],'same'] += 1\n",
    "    else: \n",
    "        cnt.loc[dfc.iloc[0,1],'other'] += 1\n",
    "        \n",
    "p = figure( y_range=cancer_types, plot_height=350 )\n",
    "p.hbar_stack( ['same','other'], y='index', color=['steelblue','orange'], height=0.9, source=cnt,\n",
    "              legend=[value(x) for x in ['same','other']])\n",
    "p.legend.location = 'bottom_right'\n",
    "show(p)"
   ]
  },
  {
   "cell_type": "markdown",
   "metadata": {},
   "source": [
    "![](img4.png)"
   ]
  },
  {
   "cell_type": "markdown",
   "metadata": {},
   "source": [
    "- In summary, what do you think? Is it possible to classify different types of cancer using gene expression data? Which cancer types are probably very hard to describe which are easy? Why?"
   ]
  },
  {
   "cell_type": "markdown",
   "metadata": {},
   "source": [
    "<font color='deeppink'>**Task 2b)**</font> Compute the PCA projection and visualize the first two components in a scatterplot. Add outlines to each cancer type to make analysis easier."
   ]
  },
  {
   "cell_type": "markdown",
   "metadata": {},
   "source": [
    "Hint: scipy provides a convex hull implementation https://docs.scipy.org/doc/scipy/reference/generated/scipy.spatial.ConvexHull.html.\n",
    "**hull.vertices** returns a list of sorted boundary vertices."
   ]
  },
  {
   "cell_type": "code",
   "execution_count": 41,
   "metadata": {},
   "outputs": [
    {
     "ename": "SyntaxError",
     "evalue": "invalid syntax (<ipython-input-41-532ea0c2e385>, line 2)",
     "output_type": "error",
     "traceback": [
      "\u001b[0;36m  File \u001b[0;32m\"<ipython-input-41-532ea0c2e385>\"\u001b[0;36m, line \u001b[0;32m2\u001b[0m\n\u001b[0;31m    pca =\u001b[0m\n\u001b[0m          ^\u001b[0m\n\u001b[0;31mSyntaxError\u001b[0m\u001b[0;31m:\u001b[0m invalid syntax\n"
     ]
    }
   ],
   "source": [
    "# compute pca of data df_std\n",
    "pca = \n",
    "\n",
    "# create a dataframe of the projected data\n",
    "pca_data = pd.DataFrame( pca.transform(df_std), columns=['PC%i' % (i+1) for i in range(pca.n_components_)])\n",
    "pca_data['label'] = labels"
   ]
  },
  {
   "cell_type": "code",
   "execution_count": 42,
   "metadata": {},
   "outputs": [
    {
     "ename": "NameError",
     "evalue": "name 'pca_data' is not defined",
     "output_type": "error",
     "traceback": [
      "\u001b[0;31m---------------------------------------------------------------------------\u001b[0m",
      "\u001b[0;31mNameError\u001b[0m                                 Traceback (most recent call last)",
      "\u001b[0;32m<ipython-input-42-29fe9c3d4658>\u001b[0m in \u001b[0;36m<module>\u001b[0;34m()\u001b[0m\n\u001b[0;32m----> 1\u001b[0;31m \u001b[0msource\u001b[0m \u001b[0;34m=\u001b[0m \u001b[0mColumnDataSource\u001b[0m\u001b[0;34m(\u001b[0m\u001b[0mpca_data\u001b[0m\u001b[0;34m)\u001b[0m\u001b[0;34m\u001b[0m\u001b[0m\n\u001b[0m\u001b[1;32m      2\u001b[0m \u001b[0;34m\u001b[0m\u001b[0m\n\u001b[1;32m      3\u001b[0m \u001b[0;31m# color mapper. Usage: mapper['LEUKEMIA'] return the colorname of the given cancer type.\u001b[0m\u001b[0;34m\u001b[0m\u001b[0;34m\u001b[0m\u001b[0m\n\u001b[1;32m      4\u001b[0m \u001b[0mmapper\u001b[0m \u001b[0;34m=\u001b[0m \u001b[0mdict\u001b[0m\u001b[0;34m(\u001b[0m\u001b[0mzip\u001b[0m\u001b[0;34m(\u001b[0m\u001b[0mcancer_types\u001b[0m\u001b[0;34m,\u001b[0m \u001b[0mCategory10\u001b[0m\u001b[0;34m[\u001b[0m\u001b[0;36m10\u001b[0m\u001b[0;34m]\u001b[0m\u001b[0;34m)\u001b[0m\u001b[0;34m)\u001b[0m\u001b[0;34m\u001b[0m\u001b[0m\n\u001b[1;32m      5\u001b[0m \u001b[0;34m\u001b[0m\u001b[0m\n",
      "\u001b[0;31mNameError\u001b[0m: name 'pca_data' is not defined"
     ]
    }
   ],
   "source": [
    "source = ColumnDataSource(pca_data)\n",
    "\n",
    "# color mapper. Usage: mapper['LEUKEMIA'] return the colorname of the given cancer type.\n",
    "mapper = dict(zip(cancer_types, Category10[10]))\n",
    "\n",
    "p = figure( plot_width=600, plot_height=600, toolbar_location=None )\n",
    "\n",
    "# render the convex hulls first\n",
    "for c in cancer_types:\n",
    "    # get the data for the current cancer type\n",
    "    data = pca_data[pca_data.label == c].reset_index()\n",
    "    \n",
    "    # your code is missing here\n",
    "\n",
    "\n",
    "p.circle( source=source, x='PC1', y='PC2', size=9, \n",
    "          color=factor_cmap('label', palette=Category10[10], factors=factors))\n",
    "p.xaxis.axis_label = 'PC1' \n",
    "p.yaxis.axis_label = 'PC2' \n",
    "\n",
    "        \n",
    "show( gridplot( [[p, getLegend(df)]] ) )"
   ]
  },
  {
   "cell_type": "markdown",
   "metadata": {},
   "source": [
    "Sample solution:\n",
    "![](img5.png)"
   ]
  },
  {
   "cell_type": "markdown",
   "metadata": {},
   "source": [
    "- Identify tumor classes (+ explain briefly):\n",
    " - Cluster\n",
    " - No compact cluster\n",
    " - Hard to distinguish"
   ]
  },
  {
   "cell_type": "markdown",
   "metadata": {},
   "source": [
    "<font color='deeppink'>**Task 2c)**</font> How confident should you be in the results?"
   ]
  },
  {
   "cell_type": "code",
   "execution_count": 43,
   "metadata": {},
   "outputs": [
    {
     "name": "stderr",
     "output_type": "stream",
     "text": [
      "/Users/srie/anaconda/lib/python2.7/site-packages/bokeh/models/sources.py:137: BokehUserWarning: ColumnDataSource's columns must be of the same length. Current lengths: ('cum_var_exp', 10), ('var_exp', 10), ('x', 60)\n",
      "  \"Current lengths: %s\" % \", \".join(sorted(str((k, len(v))) for k, v in data.items())), BokehUserWarning))\n",
      "/Users/srie/anaconda/lib/python2.7/site-packages/bokeh/models/sources.py:137: BokehUserWarning: ColumnDataSource's columns must be of the same length. Current lengths: ('x', 60), ('y', 10)\n",
      "  \"Current lengths: %s\" % \", \".join(sorted(str((k, len(v))) for k, v in data.items())), BokehUserWarning))\n",
      "/Users/srie/anaconda/lib/python2.7/site-packages/bokeh/models/sources.py:137: BokehUserWarning: ColumnDataSource's columns must be of the same length. Current lengths: ('x', 60), ('y', 10)\n",
      "  \"Current lengths: %s\" % \", \".join(sorted(str((k, len(v))) for k, v in data.items())), BokehUserWarning))\n"
     ]
    },
    {
     "data": {
      "text/html": [
       "\n",
       "<div class=\"bk-root\">\n",
       "    <div class=\"bk-plotdiv\" id=\"6133b27b-4976-4937-afd1-7f8eb0d418bc\"></div>\n",
       "</div>"
      ]
     },
     "metadata": {},
     "output_type": "display_data"
    },
    {
     "data": {
      "application/javascript": [
       "(function(root) {\n",
       "  function embed_document(root) {\n",
       "    var docs_json = {\"267e81b2-5b28-4195-8a9c-cc81de1d00ca\":{\"roots\":{\"references\":[{\"attributes\":{\"label\":{\"value\":\"Cumulative explained variance\"},\"renderers\":[{\"id\":\"8f9306a7-7f04-4f56-b79e-3f5bbabfa67c\",\"type\":\"GlyphRenderer\"}]},\"id\":\"ca992aa5-135c-4a90-8477-c6c96df47af4\",\"type\":\"LegendItem\"},{\"attributes\":{\"overlay\":{\"id\":\"2401cd54-ce8e-484c-94b5-84d16b9ed1ca\",\"type\":\"BoxAnnotation\"}},\"id\":\"781c0d5e-20ef-47b9-8137-3731faffe8a9\",\"type\":\"BoxZoomTool\"},{\"attributes\":{\"fill_color\":{\"value\":\"orange\"},\"line_color\":{\"value\":\"orange\"},\"size\":{\"units\":\"screen\",\"value\":5},\"x\":{\"field\":\"x\"},\"y\":{\"field\":\"y\"}},\"id\":\"f6767cf9-a569-4e36-8a2d-df177132f26e\",\"type\":\"Circle\"},{\"attributes\":{},\"id\":\"d235c74b-bdf2-496b-8ebd-9cc01179e40a\",\"type\":\"SaveTool\"},{\"attributes\":{\"callback\":null,\"column_names\":[\"y\",\"x\"],\"data\":{\"x\":[\"PC1\",\"PC2\",\"PC3\",\"PC4\",\"PC5\",\"PC6\",\"PC7\",\"PC8\",\"PC9\",\"PC10\",\"PC11\",\"PC12\",\"PC13\",\"PC14\",\"PC15\",\"PC16\",\"PC17\",\"PC18\",\"PC19\",\"PC20\",\"PC21\",\"PC22\",\"PC23\",\"PC24\",\"PC25\",\"PC26\",\"PC27\",\"PC28\",\"PC29\",\"PC30\",\"PC31\",\"PC32\",\"PC33\",\"PC34\",\"PC35\",\"PC36\",\"PC37\",\"PC38\",\"PC39\",\"PC40\",\"PC41\",\"PC42\",\"PC43\",\"PC44\",\"PC45\",\"PC46\",\"PC47\",\"PC48\",\"PC49\",\"PC50\",\"PC51\",\"PC52\",\"PC53\",\"PC54\",\"PC55\",\"PC56\",\"PC57\",\"PC58\",\"PC59\",\"PC60\"],\"y\":{\"__ndarray__\":\"JNh7YNJ+TkCkt/BJy6tSQLD8Vr6sIlRApLNTI29lVUDkmErBbiNWQLGsxFYdq1ZAjaDiZlYoV0DG3EZTuI5XQB2NGTB47ldAWJ0xcUAyWEA=\",\"dtype\":\"float64\",\"shape\":[10]}}},\"id\":\"05b19c97-b84c-47b4-ae84-65192064cafb\",\"type\":\"ColumnDataSource\"},{\"attributes\":{\"callback\":null,\"column_names\":[\"x\",\"y\"],\"data\":{\"x\":[\"PC1\",\"PC2\",\"PC3\",\"PC4\",\"PC5\",\"PC6\",\"PC7\",\"PC8\",\"PC9\",\"PC10\",\"PC11\",\"PC12\",\"PC13\",\"PC14\",\"PC15\",\"PC16\",\"PC17\",\"PC18\",\"PC19\",\"PC20\",\"PC21\",\"PC22\",\"PC23\",\"PC24\",\"PC25\",\"PC26\",\"PC27\",\"PC28\",\"PC29\",\"PC30\",\"PC31\",\"PC32\",\"PC33\",\"PC34\",\"PC35\",\"PC36\",\"PC37\",\"PC38\",\"PC39\",\"PC40\",\"PC41\",\"PC42\",\"PC43\",\"PC44\",\"PC45\",\"PC46\",\"PC47\",\"PC48\",\"PC49\",\"PC50\",\"PC51\",\"PC52\",\"PC53\",\"PC54\",\"PC55\",\"PC56\",\"PC57\",\"PC58\",\"PC59\",\"PC60\"],\"y\":{\"__ndarray__\":\"JNh7YNJ+TkCkt/BJy6tSQLD8Vr6sIlRApLNTI29lVUDkmErBbiNWQLGsxFYdq1ZAjaDiZlYoV0DG3EZTuI5XQB2NGTB47ldAWJ0xcUAyWEA=\",\"dtype\":\"float64\",\"shape\":[10]}}},\"id\":\"071fb37d-3528-40e6-a0a2-c1b4619dca39\",\"type\":\"ColumnDataSource\"},{\"attributes\":{\"fill_alpha\":{\"value\":0.1},\"fill_color\":{\"value\":\"#1f77b4\"},\"line_alpha\":{\"value\":0.1},\"line_color\":{\"value\":\"#1f77b4\"},\"top\":{\"field\":\"var_exp\"},\"width\":{\"value\":0.9},\"x\":{\"field\":\"x\"}},\"id\":\"4cde5e18-b997-4575-ba8a-4d1976335177\",\"type\":\"VBar\"},{\"attributes\":{\"bottom_units\":\"screen\",\"fill_alpha\":{\"value\":0.5},\"fill_color\":{\"value\":\"lightgrey\"},\"left_units\":\"screen\",\"level\":\"overlay\",\"line_alpha\":{\"value\":1.0},\"line_color\":{\"value\":\"black\"},\"line_dash\":[4,4],\"line_width\":{\"value\":2},\"plot\":null,\"render_mode\":\"css\",\"right_units\":\"screen\",\"top_units\":\"screen\"},\"id\":\"2401cd54-ce8e-484c-94b5-84d16b9ed1ca\",\"type\":\"BoxAnnotation\"},{\"attributes\":{\"formatter\":{\"id\":\"17c2381f-01dd-4598-bea4-9a1efb071a49\",\"type\":\"CategoricalTickFormatter\"},\"plot\":{\"id\":\"c076f658-d7d1-4dca-8552-b340509b05c7\",\"subtype\":\"Figure\",\"type\":\"Plot\"},\"ticker\":{\"id\":\"c9eead41-9c3c-4f22-bdc7-2e21ae80bdf2\",\"type\":\"CategoricalTicker\"}},\"id\":\"0b22b265-b8a8-4e6d-9f54-fee7ec3a6383\",\"type\":\"CategoricalAxis\"},{\"attributes\":{\"plot\":null,\"text\":\"\"},\"id\":\"2d5a976f-67a6-4fdb-9de2-9ad126e84deb\",\"type\":\"Title\"},{\"attributes\":{\"below\":[{\"id\":\"0b22b265-b8a8-4e6d-9f54-fee7ec3a6383\",\"type\":\"CategoricalAxis\"}],\"left\":[{\"id\":\"055d7a76-74a7-4bda-b1cb-add17d8f3d6b\",\"type\":\"LinearAxis\"}],\"plot_height\":400,\"plot_width\":520,\"renderers\":[{\"id\":\"0b22b265-b8a8-4e6d-9f54-fee7ec3a6383\",\"type\":\"CategoricalAxis\"},{\"id\":\"307508b8-300f-4fed-a8a2-301dcd139f19\",\"type\":\"Grid\"},{\"id\":\"055d7a76-74a7-4bda-b1cb-add17d8f3d6b\",\"type\":\"LinearAxis\"},{\"id\":\"b5829045-dc72-4e6f-b426-c1dd5aa02d43\",\"type\":\"Grid\"},{\"id\":\"2401cd54-ce8e-484c-94b5-84d16b9ed1ca\",\"type\":\"BoxAnnotation\"},{\"id\":\"3db7b818-01de-4623-a690-c674c76d9061\",\"type\":\"Legend\"},{\"id\":\"d781d405-bcbb-4405-b24e-e7659399ccb8\",\"type\":\"GlyphRenderer\"},{\"id\":\"8f9306a7-7f04-4f56-b79e-3f5bbabfa67c\",\"type\":\"GlyphRenderer\"},{\"id\":\"4ceeadf2-66aa-4bf6-93ee-c0302afda673\",\"type\":\"GlyphRenderer\"}],\"title\":{\"id\":\"2d5a976f-67a6-4fdb-9de2-9ad126e84deb\",\"type\":\"Title\"},\"toolbar\":{\"id\":\"a5c3039d-5287-4613-b3f0-763852a7e937\",\"type\":\"Toolbar\"},\"toolbar_location\":null,\"x_range\":{\"id\":\"253b651a-6eed-42d8-a88c-02d553db2f9d\",\"type\":\"FactorRange\"},\"x_scale\":{\"id\":\"18b642b2-2e36-4f27-be6e-2950550957f8\",\"type\":\"CategoricalScale\"},\"y_range\":{\"id\":\"c232823f-4a41-4948-bddc-89a0f440d418\",\"type\":\"Range1d\"},\"y_scale\":{\"id\":\"92e3c309-6c08-4eb8-94b1-038122c9412c\",\"type\":\"LinearScale\"}},\"id\":\"c076f658-d7d1-4dca-8552-b340509b05c7\",\"subtype\":\"Figure\",\"type\":\"Plot\"},{\"attributes\":{\"callback\":null,\"end\":105,\"start\":-2},\"id\":\"c232823f-4a41-4948-bddc-89a0f440d418\",\"type\":\"Range1d\"},{\"attributes\":{\"fill_color\":{\"value\":\"#1f77b4\"},\"line_color\":{\"value\":\"#1f77b4\"},\"top\":{\"field\":\"var_exp\"},\"width\":{\"value\":0.9},\"x\":{\"field\":\"x\"}},\"id\":\"aa03c043-90ee-4f81-a196-fb93d31bd5a4\",\"type\":\"VBar\"},{\"attributes\":{\"fill_alpha\":{\"value\":0.1},\"fill_color\":{\"value\":\"#1f77b4\"},\"line_alpha\":{\"value\":0.1},\"line_color\":{\"value\":\"#1f77b4\"},\"size\":{\"units\":\"screen\",\"value\":5},\"x\":{\"field\":\"x\"},\"y\":{\"field\":\"y\"}},\"id\":\"451ad1ad-a77c-4075-92e8-1343268ddecc\",\"type\":\"Circle\"},{\"attributes\":{},\"id\":\"7076a85a-96d7-4a89-bac6-026f72a74b22\",\"type\":\"HelpTool\"},{\"attributes\":{\"label\":{\"value\":\"Explained variance\"},\"renderers\":[{\"id\":\"d781d405-bcbb-4405-b24e-e7659399ccb8\",\"type\":\"GlyphRenderer\"}]},\"id\":\"2d053bdd-c1d3-411d-807b-5163314dee1a\",\"type\":\"LegendItem\"},{\"attributes\":{},\"id\":\"17c2381f-01dd-4598-bea4-9a1efb071a49\",\"type\":\"CategoricalTickFormatter\"},{\"attributes\":{},\"id\":\"d9e5b8db-0768-4076-a19d-5bdf1960865d\",\"type\":\"BasicTicker\"},{\"attributes\":{},\"id\":\"92e3c309-6c08-4eb8-94b1-038122c9412c\",\"type\":\"LinearScale\"},{\"attributes\":{\"source\":{\"id\":\"071fb37d-3528-40e6-a0a2-c1b4619dca39\",\"type\":\"ColumnDataSource\"}},\"id\":\"a1e8b269-3737-461a-b27b-1e50ea99a491\",\"type\":\"CDSView\"},{\"attributes\":{},\"id\":\"06d7925e-5bc2-4ae0-b782-8afaa4be7f4c\",\"type\":\"BasicTickFormatter\"},{\"attributes\":{\"border_line_color\":{\"value\":null},\"items\":[{\"id\":\"2d053bdd-c1d3-411d-807b-5163314dee1a\",\"type\":\"LegendItem\"},{\"id\":\"ca992aa5-135c-4a90-8477-c6c96df47af4\",\"type\":\"LegendItem\"}],\"location\":[235,155],\"plot\":{\"id\":\"c076f658-d7d1-4dca-8552-b340509b05c7\",\"subtype\":\"Figure\",\"type\":\"Plot\"}},\"id\":\"3db7b818-01de-4623-a690-c674c76d9061\",\"type\":\"Legend\"},{\"attributes\":{\"source\":{\"id\":\"b9444073-9b7e-4528-8bcd-dbdf19439178\",\"type\":\"ColumnDataSource\"}},\"id\":\"d22a1241-166f-4306-820c-66813379aafb\",\"type\":\"CDSView\"},{\"attributes\":{\"dimension\":1,\"plot\":{\"id\":\"c076f658-d7d1-4dca-8552-b340509b05c7\",\"subtype\":\"Figure\",\"type\":\"Plot\"},\"ticker\":{\"id\":\"d9e5b8db-0768-4076-a19d-5bdf1960865d\",\"type\":\"BasicTicker\"}},\"id\":\"b5829045-dc72-4e6f-b426-c1dd5aa02d43\",\"type\":\"Grid\"},{\"attributes\":{\"line_alpha\":0.1,\"line_color\":\"#1f77b4\",\"line_width\":2,\"x\":{\"field\":\"x\"},\"y\":{\"field\":\"y\"}},\"id\":\"cdff84fd-db35-4a95-81e1-c767c31849c9\",\"type\":\"Line\"},{\"attributes\":{},\"id\":\"b3527738-2936-424e-a35b-9f8421fa75ed\",\"type\":\"PanTool\"},{\"attributes\":{\"active_drag\":\"auto\",\"active_inspect\":\"auto\",\"active_scroll\":\"auto\",\"active_tap\":\"auto\",\"tools\":[{\"id\":\"b3527738-2936-424e-a35b-9f8421fa75ed\",\"type\":\"PanTool\"},{\"id\":\"121f49dc-accd-461b-845f-67c7c08a78aa\",\"type\":\"WheelZoomTool\"},{\"id\":\"781c0d5e-20ef-47b9-8137-3731faffe8a9\",\"type\":\"BoxZoomTool\"},{\"id\":\"d235c74b-bdf2-496b-8ebd-9cc01179e40a\",\"type\":\"SaveTool\"},{\"id\":\"1cb5219e-dc18-43ec-afa4-ab1959bd2672\",\"type\":\"ResetTool\"},{\"id\":\"7076a85a-96d7-4a89-bac6-026f72a74b22\",\"type\":\"HelpTool\"}]},\"id\":\"a5c3039d-5287-4613-b3f0-763852a7e937\",\"type\":\"Toolbar\"},{\"attributes\":{},\"id\":\"1cb5219e-dc18-43ec-afa4-ab1959bd2672\",\"type\":\"ResetTool\"},{\"attributes\":{},\"id\":\"121f49dc-accd-461b-845f-67c7c08a78aa\",\"type\":\"WheelZoomTool\"},{\"attributes\":{\"data_source\":{\"id\":\"b9444073-9b7e-4528-8bcd-dbdf19439178\",\"type\":\"ColumnDataSource\"},\"glyph\":{\"id\":\"aa03c043-90ee-4f81-a196-fb93d31bd5a4\",\"type\":\"VBar\"},\"hover_glyph\":null,\"muted_glyph\":null,\"nonselection_glyph\":{\"id\":\"4cde5e18-b997-4575-ba8a-4d1976335177\",\"type\":\"VBar\"},\"selection_glyph\":null,\"view\":{\"id\":\"d22a1241-166f-4306-820c-66813379aafb\",\"type\":\"CDSView\"}},\"id\":\"d781d405-bcbb-4405-b24e-e7659399ccb8\",\"type\":\"GlyphRenderer\"},{\"attributes\":{\"callback\":null,\"factors\":[\"PC1\",\"PC2\",\"PC3\",\"PC4\",\"PC5\",\"PC6\",\"PC7\",\"PC8\",\"PC9\",\"PC10\",\"PC11\",\"PC12\",\"PC13\",\"PC14\",\"PC15\",\"PC16\",\"PC17\",\"PC18\",\"PC19\",\"PC20\",\"PC21\",\"PC22\",\"PC23\",\"PC24\",\"PC25\",\"PC26\",\"PC27\",\"PC28\",\"PC29\",\"PC30\",\"PC31\",\"PC32\",\"PC33\",\"PC34\",\"PC35\",\"PC36\",\"PC37\",\"PC38\",\"PC39\",\"PC40\",\"PC41\",\"PC42\",\"PC43\",\"PC44\",\"PC45\",\"PC46\",\"PC47\",\"PC48\",\"PC49\",\"PC50\",\"PC51\",\"PC52\",\"PC53\",\"PC54\",\"PC55\",\"PC56\",\"PC57\",\"PC58\",\"PC59\",\"PC60\"]},\"id\":\"253b651a-6eed-42d8-a88c-02d553db2f9d\",\"type\":\"FactorRange\"},{\"attributes\":{\"data_source\":{\"id\":\"071fb37d-3528-40e6-a0a2-c1b4619dca39\",\"type\":\"ColumnDataSource\"},\"glyph\":{\"id\":\"f6767cf9-a569-4e36-8a2d-df177132f26e\",\"type\":\"Circle\"},\"hover_glyph\":null,\"muted_glyph\":null,\"nonselection_glyph\":{\"id\":\"451ad1ad-a77c-4075-92e8-1343268ddecc\",\"type\":\"Circle\"},\"selection_glyph\":null,\"view\":{\"id\":\"a1e8b269-3737-461a-b27b-1e50ea99a491\",\"type\":\"CDSView\"}},\"id\":\"8f9306a7-7f04-4f56-b79e-3f5bbabfa67c\",\"type\":\"GlyphRenderer\"},{\"attributes\":{\"callback\":null,\"column_names\":[\"cum_var_exp\",\"var_exp\",\"x\"],\"data\":{\"cum_var_exp\":{\"__ndarray__\":\"JNh7YNJ+TkCkt/BJy6tSQLD8Vr6sIlRApLNTI29lVUDkmErBbiNWQLGsxFYdq1ZAjaDiZlYoV0DG3EZTuI5XQB2NGTB47ldAWJ0xcUAyWEA=\",\"dtype\":\"float64\",\"shape\":[10]},\"var_exp\":{\"__ndarray__\":\"JNh7YNJ+TkCUXJbNEGMrQMNQZEYXbhdAO2/LTyYsFED1p9y+878HQJ95Qq/S9QBA6vZ8B0RO/z89Dg8Ze5j5P9EVrDT37/c/uQ4ERhDy8D8=\",\"dtype\":\"float64\",\"shape\":[10]},\"x\":[\"PC1\",\"PC2\",\"PC3\",\"PC4\",\"PC5\",\"PC6\",\"PC7\",\"PC8\",\"PC9\",\"PC10\",\"PC11\",\"PC12\",\"PC13\",\"PC14\",\"PC15\",\"PC16\",\"PC17\",\"PC18\",\"PC19\",\"PC20\",\"PC21\",\"PC22\",\"PC23\",\"PC24\",\"PC25\",\"PC26\",\"PC27\",\"PC28\",\"PC29\",\"PC30\",\"PC31\",\"PC32\",\"PC33\",\"PC34\",\"PC35\",\"PC36\",\"PC37\",\"PC38\",\"PC39\",\"PC40\",\"PC41\",\"PC42\",\"PC43\",\"PC44\",\"PC45\",\"PC46\",\"PC47\",\"PC48\",\"PC49\",\"PC50\",\"PC51\",\"PC52\",\"PC53\",\"PC54\",\"PC55\",\"PC56\",\"PC57\",\"PC58\",\"PC59\",\"PC60\"]}},\"id\":\"b9444073-9b7e-4528-8bcd-dbdf19439178\",\"type\":\"ColumnDataSource\"},{\"attributes\":{},\"id\":\"18b642b2-2e36-4f27-be6e-2950550957f8\",\"type\":\"CategoricalScale\"},{\"attributes\":{\"line_color\":\"orange\",\"line_width\":2,\"x\":{\"field\":\"x\"},\"y\":{\"field\":\"y\"}},\"id\":\"47d002ca-e5ad-45cb-8679-5c309ab6e83f\",\"type\":\"Line\"},{\"attributes\":{},\"id\":\"c9eead41-9c3c-4f22-bdc7-2e21ae80bdf2\",\"type\":\"CategoricalTicker\"},{\"attributes\":{\"axis_label\":\"Explained variance in percent\",\"formatter\":{\"id\":\"06d7925e-5bc2-4ae0-b782-8afaa4be7f4c\",\"type\":\"BasicTickFormatter\"},\"plot\":{\"id\":\"c076f658-d7d1-4dca-8552-b340509b05c7\",\"subtype\":\"Figure\",\"type\":\"Plot\"},\"ticker\":{\"id\":\"d9e5b8db-0768-4076-a19d-5bdf1960865d\",\"type\":\"BasicTicker\"}},\"id\":\"055d7a76-74a7-4bda-b1cb-add17d8f3d6b\",\"type\":\"LinearAxis\"},{\"attributes\":{\"data_source\":{\"id\":\"05b19c97-b84c-47b4-ae84-65192064cafb\",\"type\":\"ColumnDataSource\"},\"glyph\":{\"id\":\"47d002ca-e5ad-45cb-8679-5c309ab6e83f\",\"type\":\"Line\"},\"hover_glyph\":null,\"muted_glyph\":null,\"nonselection_glyph\":{\"id\":\"cdff84fd-db35-4a95-81e1-c767c31849c9\",\"type\":\"Line\"},\"selection_glyph\":null,\"view\":{\"id\":\"863bb822-bfe9-4daf-a886-c243a11278fb\",\"type\":\"CDSView\"}},\"id\":\"4ceeadf2-66aa-4bf6-93ee-c0302afda673\",\"type\":\"GlyphRenderer\"},{\"attributes\":{\"source\":{\"id\":\"05b19c97-b84c-47b4-ae84-65192064cafb\",\"type\":\"ColumnDataSource\"}},\"id\":\"863bb822-bfe9-4daf-a886-c243a11278fb\",\"type\":\"CDSView\"},{\"attributes\":{\"plot\":{\"id\":\"c076f658-d7d1-4dca-8552-b340509b05c7\",\"subtype\":\"Figure\",\"type\":\"Plot\"},\"ticker\":{\"id\":\"c9eead41-9c3c-4f22-bdc7-2e21ae80bdf2\",\"type\":\"CategoricalTicker\"},\"visible\":false},\"id\":\"307508b8-300f-4fed-a8a2-301dcd139f19\",\"type\":\"Grid\"}],\"root_ids\":[\"c076f658-d7d1-4dca-8552-b340509b05c7\"]},\"title\":\"Bokeh Application\",\"version\":\"0.12.11\"}};\n",
       "    var render_items = [{\"docid\":\"267e81b2-5b28-4195-8a9c-cc81de1d00ca\",\"elementid\":\"6133b27b-4976-4937-afd1-7f8eb0d418bc\",\"modelid\":\"c076f658-d7d1-4dca-8552-b340509b05c7\"}];\n",
       "    root.Bokeh.embed.embed_items(docs_json, render_items);\n",
       "  }\n",
       "  if (root.Bokeh !== undefined) {\n",
       "    embed_document(root);\n",
       "  } else {\n",
       "    var attempts = 0;\n",
       "    var timer = setInterval(function(root) {\n",
       "      if (root.Bokeh !== undefined) {\n",
       "        embed_document(root);\n",
       "        clearInterval(timer);\n",
       "      }\n",
       "      attempts++;\n",
       "      if (attempts > 100) {\n",
       "        console.log(\"Bokeh: ERROR: Unable to embed document because BokehJS library is missing\")\n",
       "        clearInterval(timer);\n",
       "      }\n",
       "    }, 10, root)\n",
       "  }\n",
       "})(window);"
      ],
      "application/vnd.bokehjs_exec.v0+json": ""
     },
     "metadata": {
      "application/vnd.bokehjs_exec.v0+json": {
       "id": "c076f658-d7d1-4dca-8552-b340509b05c7"
      }
     },
     "output_type": "display_data"
    }
   ],
   "source": [
    "n = 60\n",
    "\n",
    "var_exp = pca.explained_variance_ratio_[:n]*100\n",
    "cum_var_exp = np.cumsum(var_exp)\n",
    "x = ['PC%s' %(i+1) for i in range(n)]\n",
    "\n",
    "source = ColumnDataSource( dict(x=x, var_exp=var_exp, cum_var_exp=cum_var_exp) )\n",
    "\n",
    "p = figure( plot_width=520, plot_height=400, toolbar_location=None, x_range=x, y_range=(-2,105) )\n",
    "\n",
    "p.vbar( source=source, x='x', top='var_exp', width=0.9, bottom=0, legend='Explained variance' )\n",
    "\n",
    "p.circle( x, cum_var_exp, color='orange', size=5, legend=\"Cumulative explained variance\")\n",
    "p.line( x, cum_var_exp, color='orange', line_width=2 )\n",
    "\n",
    "p.legend.location = (235,155)\n",
    "p.legend.border_line_color = None\n",
    "p.xgrid.visible = False\n",
    "p.yaxis.axis_label = \"Explained variance in percent\"\n",
    "\n",
    "show(p)"
   ]
  },
  {
   "cell_type": "markdown",
   "metadata": {},
   "source": [
    "![](img6.png)"
   ]
  },
  {
   "cell_type": "markdown",
   "metadata": {},
   "source": [
    "- Take a look at the provided explained variance plot. How reliable is you analysis based on the first two components?"
   ]
  },
  {
   "cell_type": "code",
   "execution_count": null,
   "metadata": {
    "collapsed": true
   },
   "outputs": [],
   "source": []
  }
 ],
 "metadata": {
  "kernelspec": {
   "display_name": "Python 2",
   "language": "python",
   "name": "python2"
  },
  "language_info": {
   "codemirror_mode": {
    "name": "ipython",
    "version": 2
   },
   "file_extension": ".py",
   "mimetype": "text/x-python",
   "name": "python",
   "nbconvert_exporter": "python",
   "pygments_lexer": "ipython2",
   "version": "2.7.14"
  }
 },
 "nbformat": 4,
 "nbformat_minor": 2
}
